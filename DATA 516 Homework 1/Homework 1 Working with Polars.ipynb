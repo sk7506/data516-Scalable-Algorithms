{
 "cells": [
  {
   "cell_type": "markdown",
   "metadata": {},
   "source": [
    "# Homework 1: Data Validation and Transformation via Polars DataFrames\n",
    "\n",
    "## Background\n",
    "\n",
    "You work in Supply Chain for a hyperscale cloud provider. One of your organization's responsibilities is to procure server racks for data centers. Server racks have two major categories of components: server components and rack components. Server components make up each individual server (e.g., CPU, SSD, HDD, etc.). There can be multiple servers in a rack. Rack components hold all the servers in a chassis and provide a top-of-rack (TOR) networking switch for data center connectivity.\n",
    "\n",
    "## Situation\n",
    "\n",
    "We manage several different server rack programs for various compute products. Each program is quoted by a variety of vendors. The quoting process is challenging. Initially, vendors submitted summary-level quotes that provided the cost of an entire server rack. As your organization evolved, you asked vendors to start providing more detailed quotes where each line represents the cost of a individual component in the server rack. These quote line details do not include server or rack quantities. Unfortunately, internal systems are still tied to the summary-level quote submissions. The current state requires vendors to provide quotes as both summaries and detailed line items.\n",
    "Vendors have built automation to continuously supply quotes, as market rates for various components can fluctuate daily. \n",
    "\n",
    "## Available Data\n",
    "\n",
    "- Server component quantites (Excel)\n",
    "- Rack component quantities (Excel)\n",
    "- Vendor quote summary data (csv)\n",
    "- Vendor quote line detail data (csv)"
   ]
  },
  {
   "cell_type": "markdown",
   "metadata": {},
   "source": [
    "# Import Libraries and Inspect Datasets\n",
    "\n",
    "This section imports all four source datasets and removes the \"Server\" label on the program columns from the excel dataframes (server_specs_raw and rack_specs_raw).\n",
    "\n",
    "All four datasets come from Data 516 - Scalable Algorithms taught by professor Mark Kazzaz."
   ]
  },
  {
   "cell_type": "code",
   "execution_count": 1,
   "metadata": {},
   "outputs": [],
   "source": [
    "%%capture\n",
    "%pip install polars\n",
    "%pip install pandas\n",
    "%pip install fastexcel\n",
    "%pip install pyarrow\n",
    "%pip install openpyxl\n",
    "\n",
    "import pyarrow\n",
    "import fastexcel\n",
    "import polars as pl\n",
    "import pandas as pd\n",
    "from datetime import datetime\n",
    "from IPython.display import display"
   ]
  },
  {
   "cell_type": "markdown",
   "metadata": {},
   "source": [
    "# Assignment\n",
    "\n",
    "As part of the data team, you need to transform various datasets to create the following:\n",
    "\n",
    "- A table detailing the total server rack quantity for each component across all programs. \n",
    "\n",
    "    - Each record in the table should represent a distinct component. \n",
    "    - Each attribute of the table should represent a distinct program. \n",
    "    - The intersection of record and attribute should represent the total extended quantity of parts for that component and program combination.\n",
    "\n",
    "- You must join the relevant datasets and apply the necessary calculations, transformations, and filters to create a final dataset that complies with all of our data validation requirements.\n",
    "\n",
    "- Once you have a dataset that meets all the requirements, create tables for each of the following scenarios:\n",
    "\n",
    "    - If we only consider the latest quote received by each vendor for each program, what is the total server rack cost per program per vendor?\n",
    "    - If we only consider the first quote received by each vendor for each program, what is the total cost per program per vendor?\n",
    "    - To determine \"best-in-class\" pricing, calculate the total server rack cost by determining the lowest price per component and summing the total, regardless of vendor. What is the \"best-in-class\" pricing for each program?"
   ]
  },
  {
   "cell_type": "code",
   "execution_count": 2,
   "metadata": {},
   "outputs": [],
   "source": [
    "import polars as pl\n",
    "\n",
    "# import pandas as pd\n",
    "quote_lines_raw = pl.read_csv(\"quote_lines.csv\")\n",
    "quote_summaries_raw = pl.read_csv(\"quote_summaries.csv\")\n",
    "server_specs_raw = pl.read_excel('/Users/sarahkilpatrick/Documents/DATA 516 Homework 1/program configurations.xlsx', sheet_name='server_specs')\n",
    "rack_specs_raw = pl.read_excel('/Users/sarahkilpatrick/Documents/DATA 516 Homework 1/program configurations.xlsx', sheet_name='rack_specs')\n",
    "# Server factors for each program\n",
    "servers_factors = {'A': 12, 'B': 8, 'C': 14, 'D': 10, 'E': 10}\n",
    "\n"
   ]
  },
  {
   "cell_type": "code",
   "execution_count": 3,
   "metadata": {},
   "outputs": [
    {
     "name": "stdout",
     "output_type": "stream",
     "text": [
      "shape: (167, 14)\n",
      "┌──────────┬───────────┬─────────────────┬────────┬───┬────────┬───────┬────────┬─────────┐\n",
      "│ Vendor   ┆ Program   ┆ quote_timestamp ┆ CPU    ┆ … ┆ PSU    ┆ TRAY  ┆ TOR    ┆ CHASSIS │\n",
      "│ ---      ┆ ---       ┆ ---             ┆ ---    ┆   ┆ ---    ┆ ---   ┆ ---    ┆ ---     │\n",
      "│ str      ┆ str       ┆ datetime[μs]    ┆ f64    ┆   ┆ f64    ┆ f64   ┆ f64    ┆ f64     │\n",
      "╞══════════╪═══════════╪═════════════════╪════════╪═══╪════════╪═══════╪════════╪═════════╡\n",
      "│ Vendor_7 ┆ Program_D ┆ 2024-09-25      ┆ 305.84 ┆ … ┆ 94.19  ┆ 11.57 ┆ 746.67 ┆ 1015.84 │\n",
      "│          ┆           ┆ 03:52:19.637095 ┆        ┆   ┆        ┆       ┆        ┆         │\n",
      "│ Vendor_6 ┆ Program_E ┆ 2024-09-12      ┆ 324.21 ┆ … ┆ 89.99  ┆ 70.05 ┆ 728.08 ┆ 1068.57 │\n",
      "│          ┆           ┆ 00:26:22.414219 ┆        ┆   ┆        ┆       ┆        ┆         │\n",
      "│ Vendor_5 ┆ Program_A ┆ 2024-09-23      ┆ 300.29 ┆ … ┆ 102.29 ┆ 22.98 ┆ 734.33 ┆ 1770.98 │\n",
      "│          ┆           ┆ 18:35:08.078890 ┆        ┆   ┆        ┆       ┆        ┆         │\n",
      "│ Vendor_5 ┆ Program_B ┆ 2024-09-24      ┆ 333.53 ┆ … ┆ 113.9  ┆ 80.13 ┆ 616.13 ┆ 1563.11 │\n",
      "│          ┆           ┆ 11:33:41.034306 ┆        ┆   ┆        ┆       ┆        ┆         │\n",
      "│ Vendor_7 ┆ Program_C ┆ 2024-09-15      ┆ 324.79 ┆ … ┆ 86.8   ┆ 76.02 ┆ 629.8  ┆ 1437.87 │\n",
      "│          ┆           ┆ 13:20:11.557807 ┆        ┆   ┆        ┆       ┆        ┆         │\n",
      "│ …        ┆ …         ┆ …               ┆ …      ┆ … ┆ …      ┆ …     ┆ …      ┆ …       │\n",
      "│ Vendor_7 ┆ Program_E ┆ 2024-09-02      ┆ 318.99 ┆ … ┆ 98.91  ┆ 78.02 ┆ 719.53 ┆ 1614.46 │\n",
      "│          ┆           ┆ 19:59:44.793380 ┆        ┆   ┆        ┆       ┆        ┆         │\n",
      "│ Vendor_7 ┆ Program_C ┆ 2024-09-10      ┆ 345.09 ┆ … ┆ 112.67 ┆ 23.06 ┆ 727.32 ┆ 1646.63 │\n",
      "│          ┆           ┆ 20:59:39.959689 ┆        ┆   ┆        ┆       ┆        ┆         │\n",
      "│ Vendor_4 ┆ Program_E ┆ 2024-09-11      ┆ 313.77 ┆ … ┆ 115.58 ┆ 27.46 ┆ 711.28 ┆ 1094.2  │\n",
      "│          ┆           ┆ 17:20:46.390587 ┆        ┆   ┆        ┆       ┆        ┆         │\n",
      "│ Vendor_4 ┆ Program_D ┆ 2024-09-18      ┆ 310.68 ┆ … ┆ 81.97  ┆ 97.49 ┆ 607.15 ┆ 1170.61 │\n",
      "│          ┆           ┆ 01:40:39.987961 ┆        ┆   ┆        ┆       ┆        ┆         │\n",
      "│ Vendor_6 ┆ Program_E ┆ 2024-09-12      ┆ 339.08 ┆ … ┆ 86.62  ┆ 11.57 ┆ 611.23 ┆ 1677.63 │\n",
      "│          ┆           ┆ 23:45:09.765369 ┆        ┆   ┆        ┆       ┆        ┆         │\n",
      "└──────────┴───────────┴─────────────────┴────────┴───┴────────┴───────┴────────┴─────────┘\n",
      "Discarding 8 quotes outside the date range:\n",
      "\n",
      "shape: (8, 3)\n",
      "┌──────────┬───────────┬────────────────────────────┐\n",
      "│ Vendor   ┆ Program   ┆ quote_timestamp            │\n",
      "│ ---      ┆ ---       ┆ ---                        │\n",
      "│ str      ┆ str       ┆ datetime[μs]               │\n",
      "╞══════════╪═══════════╪════════════════════════════╡\n",
      "│ Vendor_6 ┆ Program_A ┆ 2024-09-01 04:29:41.575326 │\n",
      "│ Vendor_1 ┆ Program_C ┆ 2024-09-01 18:29:18.286929 │\n",
      "│ Vendor_3 ┆ Program_E ┆ 2024-09-01 08:46:16.565852 │\n",
      "│ Vendor_4 ┆ Program_E ┆ 2024-09-01 11:34:47.063229 │\n",
      "│ Vendor_6 ┆ Program_E ┆ 2024-09-01 03:28:05.312822 │\n",
      "│ Vendor_4 ┆ Program_B ┆ 2024-09-01 23:45:13.588332 │\n",
      "│ Vendor_7 ┆ Program_D ┆ 2024-09-01 22:47:48.325236 │\n",
      "│ Vendor_1 ┆ Program_A ┆ 2024-09-01 01:01:25.768272 │\n",
      "└──────────┴───────────┴────────────────────────────┘\n"
     ]
    }
   ],
   "source": [
    "from datetime import datetime\n",
    "import polars as pl\n",
    "\n",
    "# Convert the quote_timestamp to datetime and filter the range\n",
    "quote_lines_dated = (\n",
    "    quote_lines_raw\n",
    "    .with_columns(\n",
    "        pl.col(\"quote_timestamp\").str.to_datetime(\"%Y-%m-%dT%H:%M:%S%.f\")\n",
    "    )\n",
    "    .filter(\n",
    "        pl.col(\"quote_timestamp\")\n",
    "        .is_between(datetime(2024, 9, 2), datetime(2024, 9, 26))\n",
    "    )\n",
    "\n",
    ")\n",
    "# Filter rows outside the above date range\n",
    "discarded_rows = (\n",
    "    quote_lines_raw\n",
    "    .with_columns(\n",
    "        pl.col(\"quote_timestamp\").str.to_datetime(\"%Y-%m-%dT%H:%M:%S%.f\")\n",
    "    )\n",
    "    .filter(\n",
    "        ~pl.col(\"quote_timestamp\").is_between(datetime(2024, 9, 2), datetime(2024, 9, 26))\n",
    "    )\n",
    ")\n",
    "\n",
    "print(quote_lines_dated)\n",
    "\n",
    "if discarded_rows.height > 0:\n",
    "    print(f\"Discarding {discarded_rows.height} quotes outside the date range:\\n\")\n",
    "    print(discarded_rows.select([\"Vendor\", \"Program\", \"quote_timestamp\"]))\n",
    "\n"
   ]
  },
  {
   "cell_type": "code",
   "execution_count": 4,
   "metadata": {},
   "outputs": [
    {
     "name": "stdout",
     "output_type": "stream",
     "text": [
      "Cleaned quote_lines\n",
      " shape: (167, 14)\n",
      "┌──────────┬───────────┬─────────────────┬────────┬───┬────────┬───────┬────────┬─────────┐\n",
      "│ Vendor   ┆ Program   ┆ quote_timestamp ┆ CPU    ┆ … ┆ PSU    ┆ TRAY  ┆ TOR    ┆ CHASSIS │\n",
      "│ ---      ┆ ---       ┆ ---             ┆ ---    ┆   ┆ ---    ┆ ---   ┆ ---    ┆ ---     │\n",
      "│ str      ┆ str       ┆ datetime[μs]    ┆ f64    ┆   ┆ f64    ┆ f64   ┆ f64    ┆ f64     │\n",
      "╞══════════╪═══════════╪═════════════════╪════════╪═══╪════════╪═══════╪════════╪═════════╡\n",
      "│ Vendor_7 ┆ Program_D ┆ 2024-09-25      ┆ 305.84 ┆ … ┆ 94.19  ┆ 11.57 ┆ 746.67 ┆ 1015.84 │\n",
      "│          ┆           ┆ 03:52:19.637095 ┆        ┆   ┆        ┆       ┆        ┆         │\n",
      "│ Vendor_6 ┆ Program_E ┆ 2024-09-12      ┆ 324.21 ┆ … ┆ 89.99  ┆ 70.05 ┆ 728.08 ┆ 1068.57 │\n",
      "│          ┆           ┆ 00:26:22.414219 ┆        ┆   ┆        ┆       ┆        ┆         │\n",
      "│ Vendor_5 ┆ Program_A ┆ 2024-09-23      ┆ 300.29 ┆ … ┆ 102.29 ┆ 22.98 ┆ 734.33 ┆ 1770.98 │\n",
      "│          ┆           ┆ 18:35:08.078890 ┆        ┆   ┆        ┆       ┆        ┆         │\n",
      "│ Vendor_5 ┆ Program_B ┆ 2024-09-24      ┆ 333.53 ┆ … ┆ 113.9  ┆ 80.13 ┆ 616.13 ┆ 1563.11 │\n",
      "│          ┆           ┆ 11:33:41.034306 ┆        ┆   ┆        ┆       ┆        ┆         │\n",
      "│ Vendor_7 ┆ Program_C ┆ 2024-09-15      ┆ 324.79 ┆ … ┆ 86.8   ┆ 76.02 ┆ 629.8  ┆ 1437.87 │\n",
      "│          ┆           ┆ 13:20:11.557807 ┆        ┆   ┆        ┆       ┆        ┆         │\n",
      "│ …        ┆ …         ┆ …               ┆ …      ┆ … ┆ …      ┆ …     ┆ …      ┆ …       │\n",
      "│ Vendor_7 ┆ Program_E ┆ 2024-09-02      ┆ 318.99 ┆ … ┆ 98.91  ┆ 78.02 ┆ 719.53 ┆ 1614.46 │\n",
      "│          ┆           ┆ 19:59:44.793380 ┆        ┆   ┆        ┆       ┆        ┆         │\n",
      "│ Vendor_7 ┆ Program_C ┆ 2024-09-10      ┆ 345.09 ┆ … ┆ 112.67 ┆ 23.06 ┆ 727.32 ┆ 1646.63 │\n",
      "│          ┆           ┆ 20:59:39.959689 ┆        ┆   ┆        ┆       ┆        ┆         │\n",
      "│ Vendor_4 ┆ Program_E ┆ 2024-09-11      ┆ 313.77 ┆ … ┆ 115.58 ┆ 27.46 ┆ 711.28 ┆ 1094.2  │\n",
      "│          ┆           ┆ 17:20:46.390587 ┆        ┆   ┆        ┆       ┆        ┆         │\n",
      "│ Vendor_4 ┆ Program_D ┆ 2024-09-18      ┆ 310.68 ┆ … ┆ 81.97  ┆ 97.49 ┆ 607.15 ┆ 1170.61 │\n",
      "│          ┆           ┆ 01:40:39.987961 ┆        ┆   ┆        ┆       ┆        ┆         │\n",
      "│ Vendor_6 ┆ Program_E ┆ 2024-09-12      ┆ 339.08 ┆ … ┆ 86.62  ┆ 11.57 ┆ 611.23 ┆ 1677.63 │\n",
      "│          ┆           ┆ 23:45:09.765369 ┆        ┆   ┆        ┆       ┆        ┆         │\n",
      "└──────────┴───────────┴─────────────────┴────────┴───┴────────┴───────┴────────┴─────────┘\n"
     ]
    }
   ],
   "source": [
    "import polars as pl\n",
    "\n",
    "def remove_vendor_7_programs(df):\n",
    "    # Filter out rows where Vendor is 'Vendor_7' and Program is either 'Program_C' or 'Program_E'\n",
    "    df_filtered = df.filter(\n",
    "        ~(\n",
    "            (pl.col(\"Vendor\") == \"Vendor_7\") &\n",
    "            (pl.col(\"Program\").is_in([\"C\", \"E\"]))\n",
    "        )\n",
    "    )\n",
    "\n",
    "    discarded_rows = df.filter(\n",
    "        (pl.col(\"Vendor\") == \"Vendor_7\") &\n",
    "        (pl.col(\"Program\").is_in([\"C\", \"E\"]))\n",
    "    )\n",
    "\n",
    "    if discarded_rows.height > 0:\n",
    "        print(f\"Discarding {discarded_rows.height} quotes from Vendor_7 for Program C and Program E:\\n\")\n",
    "        print(discarded_rows.select([\"Vendor\", \"Program\", \"quote_timestamp\"]))\n",
    "\n",
    "    return df_filtered\n",
    "\n",
    "# Remove Vendor_7 from Program C or E\n",
    "quote_lines_cleaned = remove_vendor_7_programs(quote_lines_dated)\n",
    "\n",
    "print(\"Cleaned quote_lines\\n\", quote_lines_cleaned)"
   ]
  },
  {
   "cell_type": "code",
   "execution_count": 36,
   "metadata": {},
   "outputs": [
    {
     "name": "stdout",
     "output_type": "stream",
     "text": [
      "shape: (167, 14)\n",
      "┌──────────┬─────────┬────────────────────────────┬────────┬───┬────────┬───────┬────────┬─────────┐\n",
      "│ Vendor   ┆ Program ┆ quote_timestamp            ┆ CPU    ┆ … ┆ PSU    ┆ TRAY  ┆ TOR    ┆ CHASSIS │\n",
      "│ ---      ┆ ---     ┆ ---                        ┆ ---    ┆   ┆ ---    ┆ ---   ┆ ---    ┆ ---     │\n",
      "│ str      ┆ str     ┆ datetime[μs]               ┆ f64    ┆   ┆ f64    ┆ f64   ┆ f64    ┆ f64     │\n",
      "╞══════════╪═════════╪════════════════════════════╪════════╪═══╪════════╪═══════╪════════╪═════════╡\n",
      "│ Vendor_7 ┆ D       ┆ 2024-09-25 03:52:19.637095 ┆ 305.84 ┆ … ┆ 94.19  ┆ 11.57 ┆ 746.67 ┆ 1015.84 │\n",
      "│ Vendor_6 ┆ E       ┆ 2024-09-12 00:26:22.414219 ┆ 324.21 ┆ … ┆ 89.99  ┆ 70.05 ┆ 728.08 ┆ 1068.57 │\n",
      "│ Vendor_5 ┆ A       ┆ 2024-09-23 18:35:08.078890 ┆ 300.29 ┆ … ┆ 102.29 ┆ 22.98 ┆ 734.33 ┆ 1770.98 │\n",
      "│ Vendor_5 ┆ B       ┆ 2024-09-24 11:33:41.034306 ┆ 333.53 ┆ … ┆ 113.9  ┆ 80.13 ┆ 616.13 ┆ 1563.11 │\n",
      "│ Vendor_7 ┆ C       ┆ 2024-09-15 13:20:11.557807 ┆ 324.79 ┆ … ┆ 86.8   ┆ 76.02 ┆ 629.8  ┆ 1437.87 │\n",
      "│ …        ┆ …       ┆ …                          ┆ …      ┆ … ┆ …      ┆ …     ┆ …      ┆ …       │\n",
      "│ Vendor_7 ┆ E       ┆ 2024-09-02 19:59:44.793380 ┆ 318.99 ┆ … ┆ 98.91  ┆ 78.02 ┆ 719.53 ┆ 1614.46 │\n",
      "│ Vendor_7 ┆ C       ┆ 2024-09-10 20:59:39.959689 ┆ 345.09 ┆ … ┆ 112.67 ┆ 23.06 ┆ 727.32 ┆ 1646.63 │\n",
      "│ Vendor_4 ┆ E       ┆ 2024-09-11 17:20:46.390587 ┆ 313.77 ┆ … ┆ 115.58 ┆ 27.46 ┆ 711.28 ┆ 1094.2  │\n",
      "│ Vendor_4 ┆ D       ┆ 2024-09-18 01:40:39.987961 ┆ 310.68 ┆ … ┆ 81.97  ┆ 97.49 ┆ 607.15 ┆ 1170.61 │\n",
      "│ Vendor_6 ┆ E       ┆ 2024-09-12 23:45:09.765369 ┆ 339.08 ┆ … ┆ 86.62  ┆ 11.57 ┆ 611.23 ┆ 1677.63 │\n",
      "└──────────┴─────────┴────────────────────────────┴────────┴───┴────────┴───────┴────────┴─────────┘\n"
     ]
    }
   ],
   "source": [
    "\n",
    "def clean_program_column(df: pl.DataFrame) -> pl.DataFrame:\n",
    "    # Remove the \"Program_\" prefix from the Program column\n",
    "    df_cleaned = df.with_columns(\n",
    "        pl.col(\"Program\").str.replace(\"Program_\", \"\")  # Removing the \"Program_\" prefix\n",
    "    )\n",
    "\n",
    "    return df_cleaned\n",
    "\n",
    "quote_lines_cleaned = clean_program_column(quote_lines_cleaned)\n",
    "\n",
    "print(quote_lines_cleaned)\n",
    "\n"
   ]
  },
  {
   "cell_type": "code",
   "execution_count": 37,
   "metadata": {},
   "outputs": [
    {
     "name": "stdout",
     "output_type": "stream",
     "text": [
      "The 'quote_timestamp' column is already in datetime format or another format:\n",
      "\n"
     ]
    },
    {
     "data": {
      "text/html": [
       "<div><style>\n",
       ".dataframe > thead > tr,\n",
       ".dataframe > tbody > tr {\n",
       "  text-align: right;\n",
       "  white-space: pre-wrap;\n",
       "}\n",
       "</style>\n",
       "<small>shape: (175, 4)</small><table border=\"1\" class=\"dataframe\"><thead><tr><th>vendor</th><th>program</th><th>quote_timestamp</th><th>reported_total_price</th></tr><tr><td>str</td><td>str</td><td>datetime[μs]</td><td>f64</td></tr></thead><tbody><tr><td>&quot;Vendor_4&quot;</td><td>&quot;E&quot;</td><td>2024-09-01 11:34:47.063229</td><td>60041.39</td></tr><tr><td>&quot;Vendor_7&quot;</td><td>&quot;A&quot;</td><td>2024-09-08 09:24:26.457788</td><td>18166.85</td></tr><tr><td>&quot;Vendor_7&quot;</td><td>&quot;C&quot;</td><td>2024-09-04 20:54:28.430814</td><td>20561.73</td></tr><tr><td>&quot;Vendor_1&quot;</td><td>&quot;D&quot;</td><td>2024-09-24 20:49:52.296317</td><td>52527.28</td></tr><tr><td>&quot;Vendor_1&quot;</td><td>&quot;D&quot;</td><td>2024-09-04 17:07:58.019610</td><td>36545.28</td></tr><tr><td>&hellip;</td><td>&hellip;</td><td>&hellip;</td><td>&hellip;</td></tr><tr><td>&quot;Vendor_6&quot;</td><td>&quot;B&quot;</td><td>2024-09-03 04:36:02.445715</td><td>29320.38</td></tr><tr><td>&quot;Vendor_7&quot;</td><td>&quot;C&quot;</td><td>2024-09-02 00:38:15.661547</td><td>22139.59</td></tr><tr><td>&quot;Vendor_1&quot;</td><td>&quot;E&quot;</td><td>2024-09-24 10:23:03.302944</td><td>54118.35</td></tr><tr><td>&quot;Vendor_7&quot;</td><td>&quot;A&quot;</td><td>2024-09-20 03:53:18.814830</td><td>18946.16</td></tr><tr><td>&quot;Vendor_6&quot;</td><td>&quot;E&quot;</td><td>2024-09-12 00:26:22.414219</td><td>57354.15</td></tr></tbody></table></div>"
      ],
      "text/plain": [
       "shape: (175, 4)\n",
       "┌──────────┬─────────┬────────────────────────────┬──────────────────────┐\n",
       "│ vendor   ┆ program ┆ quote_timestamp            ┆ reported_total_price │\n",
       "│ ---      ┆ ---     ┆ ---                        ┆ ---                  │\n",
       "│ str      ┆ str     ┆ datetime[μs]               ┆ f64                  │\n",
       "╞══════════╪═════════╪════════════════════════════╪══════════════════════╡\n",
       "│ Vendor_4 ┆ E       ┆ 2024-09-01 11:34:47.063229 ┆ 60041.39             │\n",
       "│ Vendor_7 ┆ A       ┆ 2024-09-08 09:24:26.457788 ┆ 18166.85             │\n",
       "│ Vendor_7 ┆ C       ┆ 2024-09-04 20:54:28.430814 ┆ 20561.73             │\n",
       "│ Vendor_1 ┆ D       ┆ 2024-09-24 20:49:52.296317 ┆ 52527.28             │\n",
       "│ Vendor_1 ┆ D       ┆ 2024-09-04 17:07:58.019610 ┆ 36545.28             │\n",
       "│ …        ┆ …       ┆ …                          ┆ …                    │\n",
       "│ Vendor_6 ┆ B       ┆ 2024-09-03 04:36:02.445715 ┆ 29320.38             │\n",
       "│ Vendor_7 ┆ C       ┆ 2024-09-02 00:38:15.661547 ┆ 22139.59             │\n",
       "│ Vendor_1 ┆ E       ┆ 2024-09-24 10:23:03.302944 ┆ 54118.35             │\n",
       "│ Vendor_7 ┆ A       ┆ 2024-09-20 03:53:18.814830 ┆ 18946.16             │\n",
       "│ Vendor_6 ┆ E       ┆ 2024-09-12 00:26:22.414219 ┆ 57354.15             │\n",
       "└──────────┴─────────┴────────────────────────────┴──────────────────────┘"
      ]
     },
     "metadata": {},
     "output_type": "display_data"
    }
   ],
   "source": [
    "# Check if 'quote_timestamp' column in 'quote_summaries_raw' is of type string\n",
    "\n",
    "if quote_summaries_raw.schema[\"quote_timestamp\"] == pl.Utf8:\n",
    "    # Convert 'quote_timestamp' from string to datetime format\n",
    "    quote_summaries_raw = quote_summaries_raw.with_columns(\n",
    "        pl.col(\"quote_timestamp\").str.to_datetime(\"%Y-%m-%dT%H:%M:%S%.f\")\n",
    "    )\n",
    "    print(\"'quote_timestamp' has been successfully converted to datetime.\")\n",
    "else:\n",
    "    print(\"The 'quote_timestamp' column is already in datetime format or another format:\\n\")\n",
    "    display(quote_summaries_raw)\n"
   ]
  },
  {
   "cell_type": "code",
   "execution_count": 38,
   "metadata": {},
   "outputs": [
    {
     "name": "stdout",
     "output_type": "stream",
     "text": [
      "shape: (11, 6)\n",
      "┌─────────┬──────────┬──────────┬──────────┬──────────┬──────────┐\n",
      "│ Item    ┆ Server A ┆ Server B ┆ Server C ┆ Server D ┆ Server E │\n",
      "│ ---     ┆ ---      ┆ ---      ┆ ---      ┆ ---      ┆ ---      │\n",
      "│ str     ┆ i64      ┆ i64      ┆ i64      ┆ i64      ┆ i64      │\n",
      "╞═════════╪══════════╪══════════╪══════════╪══════════╪══════════╡\n",
      "│ CPU     ┆ 2        ┆ 2        ┆ 2        ┆ 1        ┆ 1        │\n",
      "│ GPU     ┆ 0        ┆ 4        ┆ 0        ┆ 0        ┆ 2        │\n",
      "│ RAM     ┆ 4        ┆ 4        ┆ 4        ┆ 8        ┆ 8        │\n",
      "│ SSD     ┆ 1        ┆ 2        ┆ 1        ┆ 1        ┆ 0        │\n",
      "│ HDD     ┆ 0        ┆ 0        ┆ 0        ┆ 20       ┆ 20       │\n",
      "│ …       ┆ …        ┆ …        ┆ …        ┆ …        ┆ …        │\n",
      "│ NIC     ┆ 2        ┆ 2        ┆ 2        ┆ 2        ┆ 1        │\n",
      "│ PSU     ┆ 1        ┆ 2        ┆ 1        ┆ 1        ┆ 1        │\n",
      "│ TRAY    ┆ 1        ┆ 1        ┆ 1        ┆ 1        ┆ 1        │\n",
      "│ TOR     ┆ 1        ┆ 2        ┆ 1        ┆ 1        ┆ 1        │\n",
      "│ CHASSIS ┆ 1        ┆ 1        ┆ 1        ┆ 1        ┆ 1        │\n",
      "└─────────┴──────────┴──────────┴──────────┴──────────┴──────────┘\n"
     ]
    }
   ],
   "source": [
    "#Concatenate the scaling factors together from server specs and rack specs\n",
    "rack_specs_filtered = rack_specs_raw.filter(pl.col('Item').is_in(['TOR', 'CHASSIS']))\n",
    "\n",
    "scaling_factors = pl.concat([server_specs_raw, rack_specs_filtered], how='vertical')\n",
    "\n",
    "print(scaling_factors)"
   ]
  },
  {
   "cell_type": "code",
   "execution_count": 39,
   "metadata": {},
   "outputs": [
    {
     "name": "stdout",
     "output_type": "stream",
     "text": [
      "Scaled factors:\n",
      " shape: (11, 6)\n",
      "┌─────────┬──────────┬──────────┬──────────┬──────────┬──────────┐\n",
      "│ Item    ┆ Server A ┆ Server B ┆ Server C ┆ Server D ┆ Server E │\n",
      "│ ---     ┆ ---      ┆ ---      ┆ ---      ┆ ---      ┆ ---      │\n",
      "│ str     ┆ i64      ┆ i64      ┆ i64      ┆ i64      ┆ i64      │\n",
      "╞═════════╪══════════╪══════════╪══════════╪══════════╪══════════╡\n",
      "│ CPU     ┆ 24       ┆ 16       ┆ 28       ┆ 10       ┆ 10       │\n",
      "│ GPU     ┆ 0        ┆ 32       ┆ 0        ┆ 0        ┆ 20       │\n",
      "│ RAM     ┆ 48       ┆ 32       ┆ 56       ┆ 80       ┆ 80       │\n",
      "│ SSD     ┆ 12       ┆ 16       ┆ 14       ┆ 10       ┆ 0        │\n",
      "│ HDD     ┆ 0        ┆ 0        ┆ 0        ┆ 200      ┆ 200      │\n",
      "│ …       ┆ …        ┆ …        ┆ …        ┆ …        ┆ …        │\n",
      "│ NIC     ┆ 24       ┆ 16       ┆ 28       ┆ 20       ┆ 10       │\n",
      "│ PSU     ┆ 12       ┆ 16       ┆ 14       ┆ 10       ┆ 10       │\n",
      "│ TRAY    ┆ 12       ┆ 8        ┆ 14       ┆ 10       ┆ 10       │\n",
      "│ TOR     ┆ 1        ┆ 2        ┆ 1        ┆ 1        ┆ 1        │\n",
      "│ CHASSIS ┆ 1        ┆ 1        ┆ 1        ┆ 1        ┆ 1        │\n",
      "└─────────┴──────────┴──────────┴──────────┴──────────┴──────────┘\n"
     ]
    }
   ],
   "source": [
    "# Separate the last two rows to keep them unscaled\n",
    "unscaled_rows = scaling_factors.tail(2)\n",
    "\n",
    "# Scale the remaining rows\n",
    "scaled_factors = scaling_factors.head(-2).select(\n",
    "    [pl.col(\"Item\")] +  # Keep the \"Item\" column as is\n",
    "    [(pl.col(f\"Server {server}\") * factor).alias(f\"Server {server}\")\n",
    "     for server, factor in servers_factors.items()]\n",
    ")\n",
    "\n",
    "# Concatenate the scaled factors with the unscaled rows\n",
    "scaled_factors = pl.concat([scaled_factors, unscaled_rows])\n",
    "\n",
    "# Display the result\n",
    "print(\"Scaled factors:\\n\", scaled_factors)"
   ]
  },
  {
   "cell_type": "code",
   "execution_count": 40,
   "metadata": {},
   "outputs": [
    {
     "name": "stdout",
     "output_type": "stream",
     "text": [
      "scaling factors, no server:\n",
      " shape: (11, 6)\n",
      "┌─────────┬─────┬─────┬─────┬─────┬─────┐\n",
      "│ Item    ┆ A   ┆ B   ┆ C   ┆ D   ┆ E   │\n",
      "│ ---     ┆ --- ┆ --- ┆ --- ┆ --- ┆ --- │\n",
      "│ str     ┆ i64 ┆ i64 ┆ i64 ┆ i64 ┆ i64 │\n",
      "╞═════════╪═════╪═════╪═════╪═════╪═════╡\n",
      "│ CPU     ┆ 24  ┆ 16  ┆ 28  ┆ 10  ┆ 10  │\n",
      "│ GPU     ┆ 0   ┆ 32  ┆ 0   ┆ 0   ┆ 20  │\n",
      "│ RAM     ┆ 48  ┆ 32  ┆ 56  ┆ 80  ┆ 80  │\n",
      "│ SSD     ┆ 12  ┆ 16  ┆ 14  ┆ 10  ┆ 0   │\n",
      "│ HDD     ┆ 0   ┆ 0   ┆ 0   ┆ 200 ┆ 200 │\n",
      "│ …       ┆ …   ┆ …   ┆ …   ┆ …   ┆ …   │\n",
      "│ NIC     ┆ 24  ┆ 16  ┆ 28  ┆ 20  ┆ 10  │\n",
      "│ PSU     ┆ 12  ┆ 16  ┆ 14  ┆ 10  ┆ 10  │\n",
      "│ TRAY    ┆ 12  ┆ 8   ┆ 14  ┆ 10  ┆ 10  │\n",
      "│ TOR     ┆ 1   ┆ 2   ┆ 1   ┆ 1   ┆ 1   │\n",
      "│ CHASSIS ┆ 1   ┆ 1   ┆ 1   ┆ 1   ┆ 1   │\n",
      "└─────────┴─────┴─────┴─────┴─────┴─────┘\n"
     ]
    }
   ],
   "source": [
    "# Remove \"Server \" from all column names (except \"Item\")\n",
    "scaling_factors = scaled_factors.rename(\n",
    "    {col: col.replace(\"Server \", \"\") for col in scaled_factors.columns if col != \"Item\"}\n",
    ")\n",
    "print(\"scaling factors, no server:\\n\", scaling_factors)"
   ]
  },
  {
   "cell_type": "code",
   "execution_count": 41,
   "metadata": {},
   "outputs": [
    {
     "name": "stdout",
     "output_type": "stream",
     "text": [
      "cleaned_scaling_factors_final:\n",
      " shape: (5, 12)\n",
      "┌─────────┬─────┬─────┬─────┬───┬─────┬──────┬─────┬─────────┐\n",
      "│ Program ┆ CPU ┆ GPU ┆ RAM ┆ … ┆ PSU ┆ TRAY ┆ TOR ┆ CHASSIS │\n",
      "│ ---     ┆ --- ┆ --- ┆ --- ┆   ┆ --- ┆ ---  ┆ --- ┆ ---     │\n",
      "│ str     ┆ i64 ┆ i64 ┆ i64 ┆   ┆ i64 ┆ i64  ┆ i64 ┆ i64     │\n",
      "╞═════════╪═════╪═════╪═════╪═══╪═════╪══════╪═════╪═════════╡\n",
      "│ A       ┆ 24  ┆ 0   ┆ 48  ┆ … ┆ 12  ┆ 12   ┆ 1   ┆ 1       │\n",
      "│ B       ┆ 16  ┆ 32  ┆ 32  ┆ … ┆ 16  ┆ 8    ┆ 2   ┆ 1       │\n",
      "│ C       ┆ 28  ┆ 0   ┆ 56  ┆ … ┆ 14  ┆ 14   ┆ 1   ┆ 1       │\n",
      "│ D       ┆ 10  ┆ 0   ┆ 80  ┆ … ┆ 10  ┆ 10   ┆ 1   ┆ 1       │\n",
      "│ E       ┆ 10  ┆ 20  ┆ 80  ┆ … ┆ 10  ┆ 10   ┆ 1   ┆ 1       │\n",
      "└─────────┴─────┴─────┴─────┴───┴─────┴──────┴─────┴─────────┘\n"
     ]
    }
   ],
   "source": [
    "# Unpivot the DataFrame\n",
    "unpivoted_df = scaling_factors.unpivot(index=\"Item\", variable_name=\"Program\", value_name=\"Value\")\n",
    "\n",
    "# Pivot to get the desired structure\n",
    "cleaned_scaling_factors_final = unpivoted_df.pivot(index=\"Program\", on=\"Item\", values=\"Value\")\n",
    "\n",
    "# Display the final DataFrame\n",
    "print(\"cleaned_scaling_factors_final:\\n\", cleaned_scaling_factors_final)\n"
   ]
  },
  {
   "cell_type": "code",
   "execution_count": 42,
   "metadata": {},
   "outputs": [
    {
     "name": "stdout",
     "output_type": "stream",
     "text": [
      "shape: (167, 14)\n",
      "┌──────────┬─────────┬────────────────────────────┬────────┬───┬────────┬───────┬────────┬─────────┐\n",
      "│ Vendor   ┆ Program ┆ quote_timestamp            ┆ CPU    ┆ … ┆ PSU    ┆ TRAY  ┆ TOR    ┆ CHASSIS │\n",
      "│ ---      ┆ ---     ┆ ---                        ┆ ---    ┆   ┆ ---    ┆ ---   ┆ ---    ┆ ---     │\n",
      "│ str      ┆ str     ┆ datetime[μs]               ┆ f64    ┆   ┆ f64    ┆ f64   ┆ f64    ┆ f64     │\n",
      "╞══════════╪═════════╪════════════════════════════╪════════╪═══╪════════╪═══════╪════════╪═════════╡\n",
      "│ Vendor_7 ┆ D       ┆ 2024-09-25 03:52:19.637095 ┆ 305.84 ┆ … ┆ 94.19  ┆ 11.57 ┆ 746.67 ┆ 1015.84 │\n",
      "│ Vendor_6 ┆ E       ┆ 2024-09-12 00:26:22.414219 ┆ 324.21 ┆ … ┆ 89.99  ┆ 70.05 ┆ 728.08 ┆ 1068.57 │\n",
      "│ Vendor_5 ┆ A       ┆ 2024-09-23 18:35:08.078890 ┆ 300.29 ┆ … ┆ 102.29 ┆ 22.98 ┆ 734.33 ┆ 1770.98 │\n",
      "│ Vendor_5 ┆ B       ┆ 2024-09-24 11:33:41.034306 ┆ 333.53 ┆ … ┆ 113.9  ┆ 80.13 ┆ 616.13 ┆ 1563.11 │\n",
      "│ Vendor_7 ┆ C       ┆ 2024-09-15 13:20:11.557807 ┆ 324.79 ┆ … ┆ 86.8   ┆ 76.02 ┆ 629.8  ┆ 1437.87 │\n",
      "│ …        ┆ …       ┆ …                          ┆ …      ┆ … ┆ …      ┆ …     ┆ …      ┆ …       │\n",
      "│ Vendor_7 ┆ E       ┆ 2024-09-02 19:59:44.793380 ┆ 318.99 ┆ … ┆ 98.91  ┆ 78.02 ┆ 719.53 ┆ 1614.46 │\n",
      "│ Vendor_7 ┆ C       ┆ 2024-09-10 20:59:39.959689 ┆ 345.09 ┆ … ┆ 112.67 ┆ 23.06 ┆ 727.32 ┆ 1646.63 │\n",
      "│ Vendor_4 ┆ E       ┆ 2024-09-11 17:20:46.390587 ┆ 313.77 ┆ … ┆ 115.58 ┆ 27.46 ┆ 711.28 ┆ 1094.2  │\n",
      "│ Vendor_4 ┆ D       ┆ 2024-09-18 01:40:39.987961 ┆ 310.68 ┆ … ┆ 81.97  ┆ 97.49 ┆ 607.15 ┆ 1170.61 │\n",
      "│ Vendor_6 ┆ E       ┆ 2024-09-12 23:45:09.765369 ┆ 339.08 ┆ … ┆ 86.62  ┆ 11.57 ┆ 611.23 ┆ 1677.63 │\n",
      "└──────────┴─────────┴────────────────────────────┴────────┴───┴────────┴───────┴────────┴─────────┘\n",
      "shape: (5, 12)\n",
      "┌─────────┬─────┬─────┬─────┬───┬─────┬──────┬─────┬─────────┐\n",
      "│ Program ┆ CPU ┆ GPU ┆ RAM ┆ … ┆ PSU ┆ TRAY ┆ TOR ┆ CHASSIS │\n",
      "│ ---     ┆ --- ┆ --- ┆ --- ┆   ┆ --- ┆ ---  ┆ --- ┆ ---     │\n",
      "│ str     ┆ i64 ┆ i64 ┆ i64 ┆   ┆ i64 ┆ i64  ┆ i64 ┆ i64     │\n",
      "╞═════════╪═════╪═════╪═════╪═══╪═════╪══════╪═════╪═════════╡\n",
      "│ A       ┆ 24  ┆ 0   ┆ 48  ┆ … ┆ 12  ┆ 12   ┆ 1   ┆ 1       │\n",
      "│ B       ┆ 16  ┆ 32  ┆ 32  ┆ … ┆ 16  ┆ 8    ┆ 2   ┆ 1       │\n",
      "│ C       ┆ 28  ┆ 0   ┆ 56  ┆ … ┆ 14  ┆ 14   ┆ 1   ┆ 1       │\n",
      "│ D       ┆ 10  ┆ 0   ┆ 80  ┆ … ┆ 10  ┆ 10   ┆ 1   ┆ 1       │\n",
      "│ E       ┆ 10  ┆ 20  ┆ 80  ┆ … ┆ 10  ┆ 10   ┆ 1   ┆ 1       │\n",
      "└─────────┴─────┴─────┴─────┴───┴─────┴──────┴─────┴─────────┘\n",
      "shape: (167, 25)\n",
      "┌──────────┬─────────┬────────────┬────────┬───┬────────────┬────────────┬────────────┬────────────┐\n",
      "│ Vendor   ┆ Program ┆ quote_time ┆ CPU    ┆ … ┆ PSU_scalin ┆ TRAY_scali ┆ TOR_scalin ┆ CHASSIS_sc │\n",
      "│ ---      ┆ ---     ┆ stamp      ┆ ---    ┆   ┆ g          ┆ ng         ┆ g          ┆ aling      │\n",
      "│ str      ┆ str     ┆ ---        ┆ f64    ┆   ┆ ---        ┆ ---        ┆ ---        ┆ ---        │\n",
      "│          ┆         ┆ datetime[μ ┆        ┆   ┆ i64        ┆ i64        ┆ i64        ┆ i64        │\n",
      "│          ┆         ┆ s]         ┆        ┆   ┆            ┆            ┆            ┆            │\n",
      "╞══════════╪═════════╪════════════╪════════╪═══╪════════════╪════════════╪════════════╪════════════╡\n",
      "│ Vendor_7 ┆ D       ┆ 2024-09-25 ┆ 305.84 ┆ … ┆ 10         ┆ 10         ┆ 1          ┆ 1          │\n",
      "│          ┆         ┆ 03:52:19.6 ┆        ┆   ┆            ┆            ┆            ┆            │\n",
      "│          ┆         ┆ 37095      ┆        ┆   ┆            ┆            ┆            ┆            │\n",
      "│ Vendor_6 ┆ E       ┆ 2024-09-12 ┆ 324.21 ┆ … ┆ 10         ┆ 10         ┆ 1          ┆ 1          │\n",
      "│          ┆         ┆ 00:26:22.4 ┆        ┆   ┆            ┆            ┆            ┆            │\n",
      "│          ┆         ┆ 14219      ┆        ┆   ┆            ┆            ┆            ┆            │\n",
      "│ Vendor_5 ┆ A       ┆ 2024-09-23 ┆ 300.29 ┆ … ┆ 12         ┆ 12         ┆ 1          ┆ 1          │\n",
      "│          ┆         ┆ 18:35:08.0 ┆        ┆   ┆            ┆            ┆            ┆            │\n",
      "│          ┆         ┆ 78890      ┆        ┆   ┆            ┆            ┆            ┆            │\n",
      "│ Vendor_5 ┆ B       ┆ 2024-09-24 ┆ 333.53 ┆ … ┆ 16         ┆ 8          ┆ 2          ┆ 1          │\n",
      "│          ┆         ┆ 11:33:41.0 ┆        ┆   ┆            ┆            ┆            ┆            │\n",
      "│          ┆         ┆ 34306      ┆        ┆   ┆            ┆            ┆            ┆            │\n",
      "│ Vendor_7 ┆ C       ┆ 2024-09-15 ┆ 324.79 ┆ … ┆ 14         ┆ 14         ┆ 1          ┆ 1          │\n",
      "│          ┆         ┆ 13:20:11.5 ┆        ┆   ┆            ┆            ┆            ┆            │\n",
      "│          ┆         ┆ 57807      ┆        ┆   ┆            ┆            ┆            ┆            │\n",
      "│ …        ┆ …       ┆ …          ┆ …      ┆ … ┆ …          ┆ …          ┆ …          ┆ …          │\n",
      "│ Vendor_7 ┆ E       ┆ 2024-09-02 ┆ 318.99 ┆ … ┆ 10         ┆ 10         ┆ 1          ┆ 1          │\n",
      "│          ┆         ┆ 19:59:44.7 ┆        ┆   ┆            ┆            ┆            ┆            │\n",
      "│          ┆         ┆ 93380      ┆        ┆   ┆            ┆            ┆            ┆            │\n",
      "│ Vendor_7 ┆ C       ┆ 2024-09-10 ┆ 345.09 ┆ … ┆ 14         ┆ 14         ┆ 1          ┆ 1          │\n",
      "│          ┆         ┆ 20:59:39.9 ┆        ┆   ┆            ┆            ┆            ┆            │\n",
      "│          ┆         ┆ 59689      ┆        ┆   ┆            ┆            ┆            ┆            │\n",
      "│ Vendor_4 ┆ E       ┆ 2024-09-11 ┆ 313.77 ┆ … ┆ 10         ┆ 10         ┆ 1          ┆ 1          │\n",
      "│          ┆         ┆ 17:20:46.3 ┆        ┆   ┆            ┆            ┆            ┆            │\n",
      "│          ┆         ┆ 90587      ┆        ┆   ┆            ┆            ┆            ┆            │\n",
      "│ Vendor_4 ┆ D       ┆ 2024-09-18 ┆ 310.68 ┆ … ┆ 10         ┆ 10         ┆ 1          ┆ 1          │\n",
      "│          ┆         ┆ 01:40:39.9 ┆        ┆   ┆            ┆            ┆            ┆            │\n",
      "│          ┆         ┆ 87961      ┆        ┆   ┆            ┆            ┆            ┆            │\n",
      "│ Vendor_6 ┆ E       ┆ 2024-09-12 ┆ 339.08 ┆ … ┆ 10         ┆ 10         ┆ 1          ┆ 1          │\n",
      "│          ┆         ┆ 23:45:09.7 ┆        ┆   ┆            ┆            ┆            ┆            │\n",
      "│          ┆         ┆ 65369      ┆        ┆   ┆            ┆            ┆            ┆            │\n",
      "└──────────┴─────────┴────────────┴────────┴───┴────────────┴────────────┴────────────┴────────────┘\n"
     ]
    }
   ],
   "source": [
    "# Merge the DataFrames on the Program column\n",
    "print(quote_lines_cleaned)\n",
    "print(cleaned_scaling_factors_final)\n",
    "merged_df = quote_lines_cleaned.join(cleaned_scaling_factors_final, on=\"Program\", suffix=\"_scaling\")\n",
    "print(merged_df)"
   ]
  },
  {
   "cell_type": "code",
   "execution_count": 43,
   "metadata": {},
   "outputs": [
    {
     "name": "stdout",
     "output_type": "stream",
     "text": [
      "Final DataFrame with multiplied values:\n",
      " shape: (167, 36)\n",
      "┌──────────┬─────────┬────────────┬────────┬───┬────────────┬────────────┬────────────┬────────────┐\n",
      "│ Vendor   ┆ Program ┆ quote_time ┆ CPU    ┆ … ┆ PSU_multip ┆ TRAY_multi ┆ TOR_multip ┆ CHASSIS_mu │\n",
      "│ ---      ┆ ---     ┆ stamp      ┆ ---    ┆   ┆ lied       ┆ plied      ┆ lied       ┆ ltiplied   │\n",
      "│ str      ┆ str     ┆ ---        ┆ f64    ┆   ┆ ---        ┆ ---        ┆ ---        ┆ ---        │\n",
      "│          ┆         ┆ datetime[μ ┆        ┆   ┆ f64        ┆ f64        ┆ f64        ┆ f64        │\n",
      "│          ┆         ┆ s]         ┆        ┆   ┆            ┆            ┆            ┆            │\n",
      "╞══════════╪═════════╪════════════╪════════╪═══╪════════════╪════════════╪════════════╪════════════╡\n",
      "│ Vendor_7 ┆ D       ┆ 2024-09-25 ┆ 305.84 ┆ … ┆ 941.9      ┆ 115.7      ┆ 746.67     ┆ 1015.84    │\n",
      "│          ┆         ┆ 03:52:19.6 ┆        ┆   ┆            ┆            ┆            ┆            │\n",
      "│          ┆         ┆ 37095      ┆        ┆   ┆            ┆            ┆            ┆            │\n",
      "│ Vendor_6 ┆ E       ┆ 2024-09-12 ┆ 324.21 ┆ … ┆ 899.9      ┆ 700.5      ┆ 728.08     ┆ 1068.57    │\n",
      "│          ┆         ┆ 00:26:22.4 ┆        ┆   ┆            ┆            ┆            ┆            │\n",
      "│          ┆         ┆ 14219      ┆        ┆   ┆            ┆            ┆            ┆            │\n",
      "│ Vendor_5 ┆ A       ┆ 2024-09-23 ┆ 300.29 ┆ … ┆ 1227.48    ┆ 275.76     ┆ 734.33     ┆ 1770.98    │\n",
      "│          ┆         ┆ 18:35:08.0 ┆        ┆   ┆            ┆            ┆            ┆            │\n",
      "│          ┆         ┆ 78890      ┆        ┆   ┆            ┆            ┆            ┆            │\n",
      "│ Vendor_5 ┆ B       ┆ 2024-09-24 ┆ 333.53 ┆ … ┆ 1822.4     ┆ 641.04     ┆ 1232.26    ┆ 1563.11    │\n",
      "│          ┆         ┆ 11:33:41.0 ┆        ┆   ┆            ┆            ┆            ┆            │\n",
      "│          ┆         ┆ 34306      ┆        ┆   ┆            ┆            ┆            ┆            │\n",
      "│ Vendor_7 ┆ C       ┆ 2024-09-15 ┆ 324.79 ┆ … ┆ 1215.2     ┆ 1064.28    ┆ 629.8      ┆ 1437.87    │\n",
      "│          ┆         ┆ 13:20:11.5 ┆        ┆   ┆            ┆            ┆            ┆            │\n",
      "│          ┆         ┆ 57807      ┆        ┆   ┆            ┆            ┆            ┆            │\n",
      "│ …        ┆ …       ┆ …          ┆ …      ┆ … ┆ …          ┆ …          ┆ …          ┆ …          │\n",
      "│ Vendor_7 ┆ E       ┆ 2024-09-02 ┆ 318.99 ┆ … ┆ 989.1      ┆ 780.2      ┆ 719.53     ┆ 1614.46    │\n",
      "│          ┆         ┆ 19:59:44.7 ┆        ┆   ┆            ┆            ┆            ┆            │\n",
      "│          ┆         ┆ 93380      ┆        ┆   ┆            ┆            ┆            ┆            │\n",
      "│ Vendor_7 ┆ C       ┆ 2024-09-10 ┆ 345.09 ┆ … ┆ 1577.38    ┆ 322.84     ┆ 727.32     ┆ 1646.63    │\n",
      "│          ┆         ┆ 20:59:39.9 ┆        ┆   ┆            ┆            ┆            ┆            │\n",
      "│          ┆         ┆ 59689      ┆        ┆   ┆            ┆            ┆            ┆            │\n",
      "│ Vendor_4 ┆ E       ┆ 2024-09-11 ┆ 313.77 ┆ … ┆ 1155.8     ┆ 274.6      ┆ 711.28     ┆ 1094.2     │\n",
      "│          ┆         ┆ 17:20:46.3 ┆        ┆   ┆            ┆            ┆            ┆            │\n",
      "│          ┆         ┆ 90587      ┆        ┆   ┆            ┆            ┆            ┆            │\n",
      "│ Vendor_4 ┆ D       ┆ 2024-09-18 ┆ 310.68 ┆ … ┆ 819.7      ┆ 974.9      ┆ 607.15     ┆ 1170.61    │\n",
      "│          ┆         ┆ 01:40:39.9 ┆        ┆   ┆            ┆            ┆            ┆            │\n",
      "│          ┆         ┆ 87961      ┆        ┆   ┆            ┆            ┆            ┆            │\n",
      "│ Vendor_6 ┆ E       ┆ 2024-09-12 ┆ 339.08 ┆ … ┆ 866.2      ┆ 115.7      ┆ 611.23     ┆ 1677.63    │\n",
      "│          ┆         ┆ 23:45:09.7 ┆        ┆   ┆            ┆            ┆            ┆            │\n",
      "│          ┆         ┆ 65369      ┆        ┆   ┆            ┆            ┆            ┆            │\n",
      "└──────────┴─────────┴────────────┴────────┴───┴────────────┴────────────┴────────────┴────────────┘\n"
     ]
    }
   ],
   "source": [
    "# Calculate multiplied values and ensure they are floats\n",
    "for column in ['CPU', 'GPU', 'RAM', 'SSD', 'HDD', 'MOBO', 'NIC', 'PSU', 'TRAY', 'TOR', 'CHASSIS']:\n",
    "    merged_df = merged_df.with_columns(\n",
    "        (pl.col(column) * pl.col(f\"{column}_scaling\")).cast(pl.Float64).alias(f\"{column}_multiplied\")\n",
    "    )\n",
    "\n",
    "# Display the final DataFrame with the new multiplied columns\n",
    "print(\"Final DataFrame with multiplied values:\\n\", merged_df)"
   ]
  },
  {
   "cell_type": "code",
   "execution_count": 44,
   "metadata": {},
   "outputs": [
    {
     "name": "stdout",
     "output_type": "stream",
     "text": [
      "Final DataFrame with multiplied items sum:\n",
      " shape: (167, 37)\n",
      "┌──────────┬─────────┬────────────┬────────┬───┬────────────┬────────────┬────────────┬────────────┐\n",
      "│ Vendor   ┆ Program ┆ quote_time ┆ CPU    ┆ … ┆ TRAY_multi ┆ TOR_multip ┆ CHASSIS_mu ┆ multiplied │\n",
      "│ ---      ┆ ---     ┆ stamp      ┆ ---    ┆   ┆ plied      ┆ lied       ┆ ltiplied   ┆ _items_sum │\n",
      "│ str      ┆ str     ┆ ---        ┆ f64    ┆   ┆ ---        ┆ ---        ┆ ---        ┆ ---        │\n",
      "│          ┆         ┆ datetime[μ ┆        ┆   ┆ f64        ┆ f64        ┆ f64        ┆ f64        │\n",
      "│          ┆         ┆ s]         ┆        ┆   ┆            ┆            ┆            ┆            │\n",
      "╞══════════╪═════════╪════════════╪════════╪═══╪════════════╪════════════╪════════════╪════════════╡\n",
      "│ Vendor_7 ┆ D       ┆ 2024-09-25 ┆ 305.84 ┆ … ┆ 115.7      ┆ 746.67     ┆ 1015.84    ┆ 34309.11   │\n",
      "│          ┆         ┆ 03:52:19.6 ┆        ┆   ┆            ┆            ┆            ┆            │\n",
      "│          ┆         ┆ 37095      ┆        ┆   ┆            ┆            ┆            ┆            │\n",
      "│ Vendor_6 ┆ E       ┆ 2024-09-12 ┆ 324.21 ┆ … ┆ 700.5      ┆ 728.08     ┆ 1068.57    ┆ 57354.15   │\n",
      "│          ┆         ┆ 00:26:22.4 ┆        ┆   ┆            ┆            ┆            ┆            │\n",
      "│          ┆         ┆ 14219      ┆        ┆   ┆            ┆            ┆            ┆            │\n",
      "│ Vendor_5 ┆ A       ┆ 2024-09-23 ┆ 300.29 ┆ … ┆ 275.76     ┆ 734.33     ┆ 1770.98    ┆ 17566.51   │\n",
      "│          ┆         ┆ 18:35:08.0 ┆        ┆   ┆            ┆            ┆            ┆            │\n",
      "│          ┆         ┆ 78890      ┆        ┆   ┆            ┆            ┆            ┆            │\n",
      "│ Vendor_5 ┆ B       ┆ 2024-09-24 ┆ 333.53 ┆ … ┆ 641.04     ┆ 1232.26    ┆ 1563.11    ┆ 30576.49   │\n",
      "│          ┆         ┆ 11:33:41.0 ┆        ┆   ┆            ┆            ┆            ┆            │\n",
      "│          ┆         ┆ 34306      ┆        ┆   ┆            ┆            ┆            ┆            │\n",
      "│ Vendor_7 ┆ C       ┆ 2024-09-15 ┆ 324.79 ┆ … ┆ 1064.28    ┆ 629.8      ┆ 1437.87    ┆ 21034.03   │\n",
      "│          ┆         ┆ 13:20:11.5 ┆        ┆   ┆            ┆            ┆            ┆            │\n",
      "│          ┆         ┆ 57807      ┆        ┆   ┆            ┆            ┆            ┆            │\n",
      "│ …        ┆ …       ┆ …          ┆ …      ┆ … ┆ …          ┆ …          ┆ …          ┆ …          │\n",
      "│ Vendor_7 ┆ E       ┆ 2024-09-02 ┆ 318.99 ┆ … ┆ 780.2      ┆ 719.53     ┆ 1614.46    ┆ 51663.09   │\n",
      "│          ┆         ┆ 19:59:44.7 ┆        ┆   ┆            ┆            ┆            ┆            │\n",
      "│          ┆         ┆ 93380      ┆        ┆   ┆            ┆            ┆            ┆            │\n",
      "│ Vendor_7 ┆ C       ┆ 2024-09-10 ┆ 345.09 ┆ … ┆ 322.84     ┆ 727.32     ┆ 1646.63    ┆ 21369.01   │\n",
      "│          ┆         ┆ 20:59:39.9 ┆        ┆   ┆            ┆            ┆            ┆            │\n",
      "│          ┆         ┆ 59689      ┆        ┆   ┆            ┆            ┆            ┆            │\n",
      "│ Vendor_4 ┆ E       ┆ 2024-09-11 ┆ 313.77 ┆ … ┆ 274.6      ┆ 711.28     ┆ 1094.2     ┆ 45293.58   │\n",
      "│          ┆         ┆ 17:20:46.3 ┆        ┆   ┆            ┆            ┆            ┆            │\n",
      "│          ┆         ┆ 90587      ┆        ┆   ┆            ┆            ┆            ┆            │\n",
      "│ Vendor_4 ┆ D       ┆ 2024-09-18 ┆ 310.68 ┆ … ┆ 974.9      ┆ 607.15     ┆ 1170.61    ┆ 41156.46   │\n",
      "│          ┆         ┆ 01:40:39.9 ┆        ┆   ┆            ┆            ┆            ┆            │\n",
      "│          ┆         ┆ 87961      ┆        ┆   ┆            ┆            ┆            ┆            │\n",
      "│ Vendor_6 ┆ E       ┆ 2024-09-12 ┆ 339.08 ┆ … ┆ 115.7      ┆ 611.23     ┆ 1677.63    ┆ 46330.56   │\n",
      "│          ┆         ┆ 23:45:09.7 ┆        ┆   ┆            ┆            ┆            ┆            │\n",
      "│          ┆         ┆ 65369      ┆        ┆   ┆            ┆            ┆            ┆            │\n",
      "└──────────┴─────────┴────────────┴────────┴───┴────────────┴────────────┴────────────┴────────────┘\n"
     ]
    }
   ],
   "source": [
    "merged_df = merged_df.with_columns(\n",
    "    (pl.col('CPU_multiplied') +\n",
    "     pl.col('GPU_multiplied') +\n",
    "     pl.col('RAM_multiplied') +\n",
    "     pl.col('SSD_multiplied') +\n",
    "     pl.col('HDD_multiplied') +\n",
    "     pl.col('MOBO_multiplied') +\n",
    "     pl.col('NIC_multiplied') +\n",
    "     pl.col('PSU_multiplied') +\n",
    "     pl.col('TRAY_multiplied') +\n",
    "     pl.col('TOR_multiplied') +\n",
    "     pl.col('CHASSIS_multiplied')).round(2).alias(\"multiplied_items_sum\")\n",
    ")\n",
    "\n",
    "# Display the final DataFrame with the new summed column\n",
    "print(\"Final DataFrame with multiplied items sum:\\n\", merged_df)"
   ]
  },
  {
   "cell_type": "code",
   "execution_count": 45,
   "metadata": {},
   "outputs": [
    {
     "name": "stdout",
     "output_type": "stream",
     "text": [
      "Final joined DataFrame:\n",
      " shape: (167, 38)\n",
      "┌──────────┬─────────┬────────────┬────────┬───┬────────────┬────────────┬────────────┬────────────┐\n",
      "│ vendor   ┆ program ┆ quote_time ┆ CPU    ┆ … ┆ TOR_multip ┆ CHASSIS_mu ┆ multiplied ┆ reported_t │\n",
      "│ ---      ┆ ---     ┆ stamp      ┆ ---    ┆   ┆ lied       ┆ ltiplied   ┆ _items_sum ┆ otal_price │\n",
      "│ str      ┆ str     ┆ ---        ┆ f64    ┆   ┆ ---        ┆ ---        ┆ ---        ┆ ---        │\n",
      "│          ┆         ┆ datetime[μ ┆        ┆   ┆ f64        ┆ f64        ┆ f64        ┆ f64        │\n",
      "│          ┆         ┆ s]         ┆        ┆   ┆            ┆            ┆            ┆            │\n",
      "╞══════════╪═════════╪════════════╪════════╪═══╪════════════╪════════════╪════════════╪════════════╡\n",
      "│ Vendor_7 ┆ A       ┆ 2024-09-08 ┆ 313.71 ┆ … ┆ 709.1      ┆ 1478.43    ┆ 18166.85   ┆ 18166.85   │\n",
      "│          ┆         ┆ 09:24:26.4 ┆        ┆   ┆            ┆            ┆            ┆            │\n",
      "│          ┆         ┆ 57788      ┆        ┆   ┆            ┆            ┆            ┆            │\n",
      "│ Vendor_7 ┆ C       ┆ 2024-09-04 ┆ 326.19 ┆ … ┆ 748.33     ┆ 1600.52    ┆ 20561.73   ┆ 20561.73   │\n",
      "│          ┆         ┆ 20:54:28.4 ┆        ┆   ┆            ┆            ┆            ┆            │\n",
      "│          ┆         ┆ 30814      ┆        ┆   ┆            ┆            ┆            ┆            │\n",
      "│ Vendor_1 ┆ D       ┆ 2024-09-24 ┆ 328.4  ┆ … ┆ 729.42     ┆ 1223.36    ┆ 52527.28   ┆ 52527.28   │\n",
      "│          ┆         ┆ 20:49:52.2 ┆        ┆   ┆            ┆            ┆            ┆            │\n",
      "│          ┆         ┆ 96317      ┆        ┆   ┆            ┆            ┆            ┆            │\n",
      "│ Vendor_1 ┆ D       ┆ 2024-09-04 ┆ 333.04 ┆ … ┆ 688.4      ┆ 1995.68    ┆ 36545.28   ┆ 36545.28   │\n",
      "│          ┆         ┆ 17:07:58.0 ┆        ┆   ┆            ┆            ┆            ┆            │\n",
      "│          ┆         ┆ 19610      ┆        ┆   ┆            ┆            ┆            ┆            │\n",
      "│ Vendor_5 ┆ D       ┆ 2024-09-04 ┆ 344.44 ┆ … ┆ 569.18     ┆ 1090.89    ┆ 36864.57   ┆ 36864.57   │\n",
      "│          ┆         ┆ 20:43:51.0 ┆        ┆   ┆            ┆            ┆            ┆            │\n",
      "│          ┆         ┆ 24192      ┆        ┆   ┆            ┆            ┆            ┆            │\n",
      "│ …        ┆ …       ┆ …          ┆ …      ┆ … ┆ …          ┆ …          ┆ …          ┆ …          │\n",
      "│ Vendor_6 ┆ B       ┆ 2024-09-03 ┆ 321.14 ┆ … ┆ 1480.36    ┆ 1073.06    ┆ 29320.38   ┆ 29320.38   │\n",
      "│          ┆         ┆ 04:36:02.4 ┆        ┆   ┆            ┆            ┆            ┆            │\n",
      "│          ┆         ┆ 45715      ┆        ┆   ┆            ┆            ┆            ┆            │\n",
      "│ Vendor_7 ┆ C       ┆ 2024-09-02 ┆ 318.64 ┆ … ┆ 524.0      ┆ 1995.29    ┆ 22139.59   ┆ 22139.59   │\n",
      "│          ┆         ┆ 00:38:15.6 ┆        ┆   ┆            ┆            ┆            ┆            │\n",
      "│          ┆         ┆ 61547      ┆        ┆   ┆            ┆            ┆            ┆            │\n",
      "│ Vendor_1 ┆ E       ┆ 2024-09-24 ┆ 322.53 ┆ … ┆ 643.35     ┆ 1266.84    ┆ 52542.09   ┆ 54118.35   │\n",
      "│          ┆         ┆ 10:23:03.3 ┆        ┆   ┆            ┆            ┆            ┆            │\n",
      "│          ┆         ┆ 02944      ┆        ┆   ┆            ┆            ┆            ┆            │\n",
      "│ Vendor_7 ┆ A       ┆ 2024-09-20 ┆ 310.97 ┆ … ┆ 672.21     ┆ 1949.51    ┆ 18946.16   ┆ 18946.16   │\n",
      "│          ┆         ┆ 03:53:18.8 ┆        ┆   ┆            ┆            ┆            ┆            │\n",
      "│          ┆         ┆ 14830      ┆        ┆   ┆            ┆            ┆            ┆            │\n",
      "│ Vendor_6 ┆ E       ┆ 2024-09-12 ┆ 324.21 ┆ … ┆ 728.08     ┆ 1068.57    ┆ 57354.15   ┆ 57354.15   │\n",
      "│          ┆         ┆ 00:26:22.4 ┆        ┆   ┆            ┆            ┆            ┆            │\n",
      "│          ┆         ┆ 14219      ┆        ┆   ┆            ┆            ┆            ┆            │\n",
      "└──────────┴─────────┴────────────┴────────┴───┴────────────┴────────────┴────────────┴────────────┘\n"
     ]
    }
   ],
   "source": [
    "# Rename columns in merged_df to match quote_summaries_raw\n",
    "merged_df_renamed = merged_df.rename({\"Vendor\": \"vendor\", \"Program\": \"program\", \"quote_timestamp\": \"quote_timestamp\"})\n",
    "\n",
    "# Perform the join\n",
    "final_df = merged_df_renamed.join(quote_summaries_raw, on=[\"vendor\", \"program\", \"quote_timestamp\"], how=\"inner\")\n",
    "\n",
    "# Display the final joined DataFrame\n",
    "print(\"Final joined DataFrame:\\n\", final_df)"
   ]
  },
  {
   "cell_type": "code",
   "execution_count": 46,
   "metadata": {},
   "outputs": [
    {
     "name": "stdout",
     "output_type": "stream",
     "text": [
      "Filtered DataFrame with matching multiplied_items_sum and reported_total_price:\n",
      " shape: (155, 38)\n",
      "┌──────────┬─────────┬────────────┬────────┬───┬────────────┬────────────┬────────────┬────────────┐\n",
      "│ vendor   ┆ program ┆ quote_time ┆ CPU    ┆ … ┆ TOR_multip ┆ CHASSIS_mu ┆ multiplied ┆ reported_t │\n",
      "│ ---      ┆ ---     ┆ stamp      ┆ ---    ┆   ┆ lied       ┆ ltiplied   ┆ _items_sum ┆ otal_price │\n",
      "│ str      ┆ str     ┆ ---        ┆ f64    ┆   ┆ ---        ┆ ---        ┆ ---        ┆ ---        │\n",
      "│          ┆         ┆ datetime[μ ┆        ┆   ┆ f64        ┆ f64        ┆ f64        ┆ f64        │\n",
      "│          ┆         ┆ s]         ┆        ┆   ┆            ┆            ┆            ┆            │\n",
      "╞══════════╪═════════╪════════════╪════════╪═══╪════════════╪════════════╪════════════╪════════════╡\n",
      "│ Vendor_7 ┆ A       ┆ 2024-09-08 ┆ 313.71 ┆ … ┆ 709.1      ┆ 1478.43    ┆ 18166.85   ┆ 18166.85   │\n",
      "│          ┆         ┆ 09:24:26.4 ┆        ┆   ┆            ┆            ┆            ┆            │\n",
      "│          ┆         ┆ 57788      ┆        ┆   ┆            ┆            ┆            ┆            │\n",
      "│ Vendor_7 ┆ C       ┆ 2024-09-04 ┆ 326.19 ┆ … ┆ 748.33     ┆ 1600.52    ┆ 20561.73   ┆ 20561.73   │\n",
      "│          ┆         ┆ 20:54:28.4 ┆        ┆   ┆            ┆            ┆            ┆            │\n",
      "│          ┆         ┆ 30814      ┆        ┆   ┆            ┆            ┆            ┆            │\n",
      "│ Vendor_1 ┆ D       ┆ 2024-09-24 ┆ 328.4  ┆ … ┆ 729.42     ┆ 1223.36    ┆ 52527.28   ┆ 52527.28   │\n",
      "│          ┆         ┆ 20:49:52.2 ┆        ┆   ┆            ┆            ┆            ┆            │\n",
      "│          ┆         ┆ 96317      ┆        ┆   ┆            ┆            ┆            ┆            │\n",
      "│ Vendor_1 ┆ D       ┆ 2024-09-04 ┆ 333.04 ┆ … ┆ 688.4      ┆ 1995.68    ┆ 36545.28   ┆ 36545.28   │\n",
      "│          ┆         ┆ 17:07:58.0 ┆        ┆   ┆            ┆            ┆            ┆            │\n",
      "│          ┆         ┆ 19610      ┆        ┆   ┆            ┆            ┆            ┆            │\n",
      "│ Vendor_5 ┆ D       ┆ 2024-09-04 ┆ 344.44 ┆ … ┆ 569.18     ┆ 1090.89    ┆ 36864.57   ┆ 36864.57   │\n",
      "│          ┆         ┆ 20:43:51.0 ┆        ┆   ┆            ┆            ┆            ┆            │\n",
      "│          ┆         ┆ 24192      ┆        ┆   ┆            ┆            ┆            ┆            │\n",
      "│ …        ┆ …       ┆ …          ┆ …      ┆ … ┆ …          ┆ …          ┆ …          ┆ …          │\n",
      "│ Vendor_6 ┆ B       ┆ 2024-09-21 ┆ 308.45 ┆ … ┆ 1114.1     ┆ 1111.66    ┆ 28146.8    ┆ 28146.8    │\n",
      "│          ┆         ┆ 10:38:25.4 ┆        ┆   ┆            ┆            ┆            ┆            │\n",
      "│          ┆         ┆ 43676      ┆        ┆   ┆            ┆            ┆            ┆            │\n",
      "│ Vendor_6 ┆ B       ┆ 2024-09-03 ┆ 321.14 ┆ … ┆ 1480.36    ┆ 1073.06    ┆ 29320.38   ┆ 29320.38   │\n",
      "│          ┆         ┆ 04:36:02.4 ┆        ┆   ┆            ┆            ┆            ┆            │\n",
      "│          ┆         ┆ 45715      ┆        ┆   ┆            ┆            ┆            ┆            │\n",
      "│ Vendor_7 ┆ C       ┆ 2024-09-02 ┆ 318.64 ┆ … ┆ 524.0      ┆ 1995.29    ┆ 22139.59   ┆ 22139.59   │\n",
      "│          ┆         ┆ 00:38:15.6 ┆        ┆   ┆            ┆            ┆            ┆            │\n",
      "│          ┆         ┆ 61547      ┆        ┆   ┆            ┆            ┆            ┆            │\n",
      "│ Vendor_7 ┆ A       ┆ 2024-09-20 ┆ 310.97 ┆ … ┆ 672.21     ┆ 1949.51    ┆ 18946.16   ┆ 18946.16   │\n",
      "│          ┆         ┆ 03:53:18.8 ┆        ┆   ┆            ┆            ┆            ┆            │\n",
      "│          ┆         ┆ 14830      ┆        ┆   ┆            ┆            ┆            ┆            │\n",
      "│ Vendor_6 ┆ E       ┆ 2024-09-12 ┆ 324.21 ┆ … ┆ 728.08     ┆ 1068.57    ┆ 57354.15   ┆ 57354.15   │\n",
      "│          ┆         ┆ 00:26:22.4 ┆        ┆   ┆            ┆            ┆            ┆            │\n",
      "│          ┆         ┆ 14219      ┆        ┆   ┆            ┆            ┆            ┆            │\n",
      "└──────────┴─────────┴────────────┴────────┴───┴────────────┴────────────┴────────────┴────────────┘\n"
     ]
    }
   ],
   "source": [
    "# Filter to keep only records where multiplied_items_sum equals reported_total_price\n",
    "filtered_df = final_df.filter(pl.col(\"multiplied_items_sum\") == pl.col(\"reported_total_price\"))\n",
    "\n",
    "# Display the filtered DataFrame\n",
    "print(\"Filtered DataFrame with matching multiplied_items_sum and reported_total_price:\\n\", filtered_df)"
   ]
  },
  {
   "cell_type": "code",
   "execution_count": 47,
   "metadata": {},
   "outputs": [
    {
     "name": "stdout",
     "output_type": "stream",
     "text": [
      "The table of extended quantites per component for all programs\n",
      "\n"
     ]
    },
    {
     "data": {
      "text/html": [
       "<div><style>\n",
       ".dataframe > thead > tr,\n",
       ".dataframe > tbody > tr {\n",
       "  text-align: right;\n",
       "  white-space: pre-wrap;\n",
       "}\n",
       "</style>\n",
       "<small>shape: (5, 12)</small><table border=\"1\" class=\"dataframe\"><thead><tr><th>Program</th><th>CPU</th><th>GPU</th><th>RAM</th><th>SSD</th><th>HDD</th><th>MOBO</th><th>NIC</th><th>PSU</th><th>TRAY</th><th>TOR</th><th>CHASSIS</th></tr><tr><td>str</td><td>i64</td><td>i64</td><td>i64</td><td>i64</td><td>i64</td><td>i64</td><td>i64</td><td>i64</td><td>i64</td><td>i64</td><td>i64</td></tr></thead><tbody><tr><td>&quot;A&quot;</td><td>24</td><td>0</td><td>48</td><td>12</td><td>0</td><td>12</td><td>24</td><td>12</td><td>12</td><td>1</td><td>1</td></tr><tr><td>&quot;B&quot;</td><td>16</td><td>32</td><td>32</td><td>16</td><td>0</td><td>8</td><td>16</td><td>16</td><td>8</td><td>2</td><td>1</td></tr><tr><td>&quot;C&quot;</td><td>28</td><td>0</td><td>56</td><td>14</td><td>0</td><td>14</td><td>28</td><td>14</td><td>14</td><td>1</td><td>1</td></tr><tr><td>&quot;D&quot;</td><td>10</td><td>0</td><td>80</td><td>10</td><td>200</td><td>10</td><td>20</td><td>10</td><td>10</td><td>1</td><td>1</td></tr><tr><td>&quot;E&quot;</td><td>10</td><td>20</td><td>80</td><td>0</td><td>200</td><td>10</td><td>10</td><td>10</td><td>10</td><td>1</td><td>1</td></tr></tbody></table></div>"
      ],
      "text/plain": [
       "shape: (5, 12)\n",
       "┌─────────┬─────┬─────┬─────┬───┬─────┬──────┬─────┬─────────┐\n",
       "│ Program ┆ CPU ┆ GPU ┆ RAM ┆ … ┆ PSU ┆ TRAY ┆ TOR ┆ CHASSIS │\n",
       "│ ---     ┆ --- ┆ --- ┆ --- ┆   ┆ --- ┆ ---  ┆ --- ┆ ---     │\n",
       "│ str     ┆ i64 ┆ i64 ┆ i64 ┆   ┆ i64 ┆ i64  ┆ i64 ┆ i64     │\n",
       "╞═════════╪═════╪═════╪═════╪═══╪═════╪══════╪═════╪═════════╡\n",
       "│ A       ┆ 24  ┆ 0   ┆ 48  ┆ … ┆ 12  ┆ 12   ┆ 1   ┆ 1       │\n",
       "│ B       ┆ 16  ┆ 32  ┆ 32  ┆ … ┆ 16  ┆ 8    ┆ 2   ┆ 1       │\n",
       "│ C       ┆ 28  ┆ 0   ┆ 56  ┆ … ┆ 14  ┆ 14   ┆ 1   ┆ 1       │\n",
       "│ D       ┆ 10  ┆ 0   ┆ 80  ┆ … ┆ 10  ┆ 10   ┆ 1   ┆ 1       │\n",
       "│ E       ┆ 10  ┆ 20  ┆ 80  ┆ … ┆ 10  ┆ 10   ┆ 1   ┆ 1       │\n",
       "└─────────┴─────┴─────┴─────┴───┴─────┴──────┴─────┴─────────┘"
      ]
     },
     "metadata": {},
     "output_type": "display_data"
    }
   ],
   "source": [
    "# Final Four Cells - Cell 1 \n",
    "\n",
    "print(\"The table of extended quantites per component for all programs\\n\")\n",
    "display(cleaned_scaling_factors_final)"
   ]
  },
  {
   "cell_type": "code",
   "execution_count": 48,
   "metadata": {},
   "outputs": [
    {
     "name": "stdout",
     "output_type": "stream",
     "text": [
      "Total cost per program per vendor based on the latest received quote:\n",
      "\n"
     ]
    },
    {
     "data": {
      "text/html": [
       "<div><style>\n",
       ".dataframe > thead > tr,\n",
       ".dataframe > tbody > tr {\n",
       "  text-align: right;\n",
       "  white-space: pre-wrap;\n",
       "}\n",
       "</style>\n",
       "<small>shape: (35, 4)</small><table border=\"1\" class=\"dataframe\"><thead><tr><th>program</th><th>vendor</th><th>latest_date</th><th>reported_total_price</th></tr><tr><td>str</td><td>str</td><td>datetime[μs]</td><td>f64</td></tr></thead><tbody><tr><td>&quot;A&quot;</td><td>&quot;Vendor_3&quot;</td><td>2024-09-17 18:56:17.120014</td><td>18337.45</td></tr><tr><td>&quot;D&quot;</td><td>&quot;Vendor_2&quot;</td><td>2024-09-15 16:31:01.577563</td><td>50639.78</td></tr><tr><td>&quot;E&quot;</td><td>&quot;Vendor_3&quot;</td><td>2024-09-21 07:42:39.011815</td><td>50823.06</td></tr><tr><td>&quot;A&quot;</td><td>&quot;Vendor_4&quot;</td><td>2024-09-22 22:27:29.616821</td><td>18097.66</td></tr><tr><td>&quot;C&quot;</td><td>&quot;Vendor_1&quot;</td><td>2024-09-21 09:52:40.202503</td><td>20237.5</td></tr><tr><td>&hellip;</td><td>&hellip;</td><td>&hellip;</td><td>&hellip;</td></tr><tr><td>&quot;E&quot;</td><td>&quot;Vendor_1&quot;</td><td>2024-09-19 00:04:36.436457</td><td>56903.34</td></tr><tr><td>&quot;C&quot;</td><td>&quot;Vendor_2&quot;</td><td>2024-09-16 13:58:07.986085</td><td>20375.36</td></tr><tr><td>&quot;E&quot;</td><td>&quot;Vendor_6&quot;</td><td>2024-09-20 12:38:17.371232</td><td>49034.84</td></tr><tr><td>&quot;B&quot;</td><td>&quot;Vendor_2&quot;</td><td>2024-09-25 02:56:27.371579</td><td>31166.21</td></tr><tr><td>&quot;B&quot;</td><td>&quot;Vendor_6&quot;</td><td>2024-09-21 10:38:25.443676</td><td>28146.8</td></tr></tbody></table></div>"
      ],
      "text/plain": [
       "shape: (35, 4)\n",
       "┌─────────┬──────────┬────────────────────────────┬──────────────────────┐\n",
       "│ program ┆ vendor   ┆ latest_date                ┆ reported_total_price │\n",
       "│ ---     ┆ ---      ┆ ---                        ┆ ---                  │\n",
       "│ str     ┆ str      ┆ datetime[μs]               ┆ f64                  │\n",
       "╞═════════╪══════════╪════════════════════════════╪══════════════════════╡\n",
       "│ A       ┆ Vendor_3 ┆ 2024-09-17 18:56:17.120014 ┆ 18337.45             │\n",
       "│ D       ┆ Vendor_2 ┆ 2024-09-15 16:31:01.577563 ┆ 50639.78             │\n",
       "│ E       ┆ Vendor_3 ┆ 2024-09-21 07:42:39.011815 ┆ 50823.06             │\n",
       "│ A       ┆ Vendor_4 ┆ 2024-09-22 22:27:29.616821 ┆ 18097.66             │\n",
       "│ C       ┆ Vendor_1 ┆ 2024-09-21 09:52:40.202503 ┆ 20237.5              │\n",
       "│ …       ┆ …        ┆ …                          ┆ …                    │\n",
       "│ E       ┆ Vendor_1 ┆ 2024-09-19 00:04:36.436457 ┆ 56903.34             │\n",
       "│ C       ┆ Vendor_2 ┆ 2024-09-16 13:58:07.986085 ┆ 20375.36             │\n",
       "│ E       ┆ Vendor_6 ┆ 2024-09-20 12:38:17.371232 ┆ 49034.84             │\n",
       "│ B       ┆ Vendor_2 ┆ 2024-09-25 02:56:27.371579 ┆ 31166.21             │\n",
       "│ B       ┆ Vendor_6 ┆ 2024-09-21 10:38:25.443676 ┆ 28146.8              │\n",
       "└─────────┴──────────┴────────────────────────────┴──────────────────────┘"
      ]
     },
     "metadata": {},
     "output_type": "display_data"
    }
   ],
   "source": [
    "# Final Four Cells - Cell 2\n",
    "\n",
    "latest_total_cost_per_program_per_vendor = (\n",
    "\n",
    "    filtered_df\n",
    "    .group_by(['vendor', 'program'])\n",
    "    .agg(\n",
    "        pl.col(\"quote_timestamp\").max().alias(\"latest_date\")\n",
    "    )\n",
    "    .join(\n",
    "        filtered_df, left_on = [\"program\", \"vendor\", \"latest_date\"], right_on = [\"program\", \"vendor\", \"quote_timestamp\"]\n",
    "    )\n",
    "    .select(\n",
    "        [\"program\", \"vendor\", \"latest_date\", \"reported_total_price\"]\n",
    "    )\n",
    ")\n",
    "\n",
    "print(\"Total cost per program per vendor based on the latest received quote:\\n\")\n",
    "display(latest_total_cost_per_program_per_vendor)\n"
   ]
  },
  {
   "cell_type": "code",
   "execution_count": 49,
   "metadata": {},
   "outputs": [
    {
     "name": "stdout",
     "output_type": "stream",
     "text": [
      "Total cost per program per vendor based on the latest received quote:\n",
      "\n"
     ]
    },
    {
     "data": {
      "text/html": [
       "<div><style>\n",
       ".dataframe > thead > tr,\n",
       ".dataframe > tbody > tr {\n",
       "  text-align: right;\n",
       "  white-space: pre-wrap;\n",
       "}\n",
       "</style>\n",
       "<small>shape: (35, 4)</small><table border=\"1\" class=\"dataframe\"><thead><tr><th>program</th><th>vendor</th><th>latest_date</th><th>reported_total_price</th></tr><tr><td>str</td><td>str</td><td>datetime[μs]</td><td>f64</td></tr></thead><tbody><tr><td>&quot;D&quot;</td><td>&quot;Vendor_1&quot;</td><td>2024-09-04 14:32:50.758660</td><td>35885.62</td></tr><tr><td>&quot;B&quot;</td><td>&quot;Vendor_2&quot;</td><td>2024-09-07 05:29:28.582140</td><td>30943.99</td></tr><tr><td>&quot;D&quot;</td><td>&quot;Vendor_7&quot;</td><td>2024-09-14 21:51:34.330801</td><td>39209.79</td></tr><tr><td>&quot;A&quot;</td><td>&quot;Vendor_7&quot;</td><td>2024-09-03 23:40:49.599144</td><td>18099.99</td></tr><tr><td>&quot;B&quot;</td><td>&quot;Vendor_6&quot;</td><td>2024-09-03 02:21:46.569968</td><td>32021.13</td></tr><tr><td>&hellip;</td><td>&hellip;</td><td>&hellip;</td><td>&hellip;</td></tr><tr><td>&quot;D&quot;</td><td>&quot;Vendor_5&quot;</td><td>2024-09-02 04:38:28.238073</td><td>54559.0</td></tr><tr><td>&quot;D&quot;</td><td>&quot;Vendor_2&quot;</td><td>2024-09-02 15:44:11.625368</td><td>45809.01</td></tr><tr><td>&quot;A&quot;</td><td>&quot;Vendor_3&quot;</td><td>2024-09-03 20:38:52.014528</td><td>18934.65</td></tr><tr><td>&quot;C&quot;</td><td>&quot;Vendor_7&quot;</td><td>2024-09-02 00:38:15.661547</td><td>22139.59</td></tr><tr><td>&quot;E&quot;</td><td>&quot;Vendor_6&quot;</td><td>2024-09-12 00:26:22.414219</td><td>57354.15</td></tr></tbody></table></div>"
      ],
      "text/plain": [
       "shape: (35, 4)\n",
       "┌─────────┬──────────┬────────────────────────────┬──────────────────────┐\n",
       "│ program ┆ vendor   ┆ latest_date                ┆ reported_total_price │\n",
       "│ ---     ┆ ---      ┆ ---                        ┆ ---                  │\n",
       "│ str     ┆ str      ┆ datetime[μs]               ┆ f64                  │\n",
       "╞═════════╪══════════╪════════════════════════════╪══════════════════════╡\n",
       "│ D       ┆ Vendor_1 ┆ 2024-09-04 14:32:50.758660 ┆ 35885.62             │\n",
       "│ B       ┆ Vendor_2 ┆ 2024-09-07 05:29:28.582140 ┆ 30943.99             │\n",
       "│ D       ┆ Vendor_7 ┆ 2024-09-14 21:51:34.330801 ┆ 39209.79             │\n",
       "│ A       ┆ Vendor_7 ┆ 2024-09-03 23:40:49.599144 ┆ 18099.99             │\n",
       "│ B       ┆ Vendor_6 ┆ 2024-09-03 02:21:46.569968 ┆ 32021.13             │\n",
       "│ …       ┆ …        ┆ …                          ┆ …                    │\n",
       "│ D       ┆ Vendor_5 ┆ 2024-09-02 04:38:28.238073 ┆ 54559.0              │\n",
       "│ D       ┆ Vendor_2 ┆ 2024-09-02 15:44:11.625368 ┆ 45809.01             │\n",
       "│ A       ┆ Vendor_3 ┆ 2024-09-03 20:38:52.014528 ┆ 18934.65             │\n",
       "│ C       ┆ Vendor_7 ┆ 2024-09-02 00:38:15.661547 ┆ 22139.59             │\n",
       "│ E       ┆ Vendor_6 ┆ 2024-09-12 00:26:22.414219 ┆ 57354.15             │\n",
       "└─────────┴──────────┴────────────────────────────┴──────────────────────┘"
      ]
     },
     "metadata": {},
     "output_type": "display_data"
    }
   ],
   "source": [
    "# Final Four Cells - Cell 3\n",
    "earliest_total_cost_per_program_per_vendor = (\n",
    "\n",
    "    filtered_df\n",
    "    .group_by(['vendor', 'program'])\n",
    "    .agg(\n",
    "        pl.col(\"quote_timestamp\").min().alias(\"latest_date\")\n",
    "    )\n",
    "    .join(\n",
    "        filtered_df, left_on = [\"program\", \"vendor\", \"latest_date\"], right_on = [\"program\", \"vendor\", \"quote_timestamp\"]\n",
    "    )\n",
    "    .select(\n",
    "        [\"program\", \"vendor\", \"latest_date\", \"reported_total_price\"]\n",
    "    )\n",
    ")\n",
    "\n",
    "print(\"Total cost per program per vendor based on the latest received quote:\\n\")\n",
    "display(earliest_total_cost_per_program_per_vendor)"
   ]
  },
  {
   "cell_type": "code",
   "execution_count": 50,
   "metadata": {},
   "outputs": [
    {
     "name": "stdout",
     "output_type": "stream",
     "text": [
      "The table of best-in-class total cost per program (regardless of vendor):\n",
      "\n"
     ]
    },
    {
     "data": {
      "text/html": [
       "<div><style>\n",
       ".dataframe > thead > tr,\n",
       ".dataframe > tbody > tr {\n",
       "  text-align: right;\n",
       "  white-space: pre-wrap;\n",
       "}\n",
       "</style>\n",
       "<small>shape: (5, 13)</small><table border=\"1\" class=\"dataframe\"><thead><tr><th>program</th><th>CPU_min</th><th>GPU_min</th><th>RAM_min</th><th>SSD_min</th><th>HDD_min</th><th>MOBO_min</th><th>NIC_min</th><th>PSU_min</th><th>TRAY_min</th><th>TOR_min</th><th>CHASSIS_min</th><th>total_minimum_sum</th></tr><tr><td>str</td><td>f64</td><td>f64</td><td>f64</td><td>f64</td><td>f64</td><td>f64</td><td>f64</td><td>f64</td><td>f64</td><td>f64</td><td>f64</td><td>f64</td></tr></thead><tbody><tr><td>&quot;C&quot;</td><td>8423.52</td><td>0.0</td><td>2474.08</td><td>2524.76</td><td>0.0</td><td>1139.04</td><td>576.52</td><td>1136.1</td><td>155.82</td><td>502.95</td><td>1007.48</td><td>17940.27</td></tr><tr><td>&quot;E&quot;</td><td>3017.7</td><td>8211.4</td><td>3528.8</td><td>0.0</td><td>20390.0</td><td>803.5</td><td>201.9</td><td>803.9</td><td>115.7</td><td>523.49</td><td>1009.27</td><td>38605.66</td></tr><tr><td>&quot;D&quot;</td><td>3013.6</td><td>0.0</td><td>3568.0</td><td>1802.4</td><td>20178.0</td><td>807.2</td><td>419.6</td><td>819.7</td><td>115.7</td><td>508.13</td><td>1015.84</td><td>32248.17</td></tr><tr><td>&quot;B&quot;</td><td>4808.48</td><td>12924.16</td><td>1421.44</td><td>2889.44</td><td>0.0</td><td>650.88</td><td>330.24</td><td>1315.68</td><td>98.64</td><td>1007.74</td><td>1018.23</td><td>26464.93</td></tr><tr><td>&quot;A&quot;</td><td>7206.96</td><td>0.0</td><td>2122.56</td><td>2169.96</td><td>0.0</td><td>975.24</td><td>486.72</td><td>977.88</td><td>239.88</td><td>507.45</td><td>1097.67</td><td>15784.32</td></tr></tbody></table></div>"
      ],
      "text/plain": [
       "shape: (5, 13)\n",
       "┌─────────┬─────────┬──────────┬─────────┬───┬──────────┬─────────┬─────────────┬──────────────────┐\n",
       "│ program ┆ CPU_min ┆ GPU_min  ┆ RAM_min ┆ … ┆ TRAY_min ┆ TOR_min ┆ CHASSIS_min ┆ total_minimum_su │\n",
       "│ ---     ┆ ---     ┆ ---      ┆ ---     ┆   ┆ ---      ┆ ---     ┆ ---         ┆ m                │\n",
       "│ str     ┆ f64     ┆ f64      ┆ f64     ┆   ┆ f64      ┆ f64     ┆ f64         ┆ ---              │\n",
       "│         ┆         ┆          ┆         ┆   ┆          ┆         ┆             ┆ f64              │\n",
       "╞═════════╪═════════╪══════════╪═════════╪═══╪══════════╪═════════╪═════════════╪══════════════════╡\n",
       "│ C       ┆ 8423.52 ┆ 0.0      ┆ 2474.08 ┆ … ┆ 155.82   ┆ 502.95  ┆ 1007.48     ┆ 17940.27         │\n",
       "│ E       ┆ 3017.7  ┆ 8211.4   ┆ 3528.8  ┆ … ┆ 115.7    ┆ 523.49  ┆ 1009.27     ┆ 38605.66         │\n",
       "│ D       ┆ 3013.6  ┆ 0.0      ┆ 3568.0  ┆ … ┆ 115.7    ┆ 508.13  ┆ 1015.84     ┆ 32248.17         │\n",
       "│ B       ┆ 4808.48 ┆ 12924.16 ┆ 1421.44 ┆ … ┆ 98.64    ┆ 1007.74 ┆ 1018.23     ┆ 26464.93         │\n",
       "│ A       ┆ 7206.96 ┆ 0.0      ┆ 2122.56 ┆ … ┆ 239.88   ┆ 507.45  ┆ 1097.67     ┆ 15784.32         │\n",
       "└─────────┴─────────┴──────────┴─────────┴───┴──────────┴─────────┴─────────────┴──────────────────┘"
      ]
     },
     "metadata": {},
     "output_type": "display_data"
    }
   ],
   "source": [
    "# Final Four Cells - Cell 4 \n",
    "# The table of \"best-in-class\" total cost per program (regardless of vendor).\n",
    "\n",
    "sorted_filtered_df = filtered_df.sort([\"program\", \"quote_timestamp\"])\n",
    "\n",
    "# Calculate the best-in-class total cost per program\n",
    "best_in_class_total_cost_per_program = (\n",
    "    sorted_filtered_df\n",
    "    .group_by(\"program\")\n",
    "    .agg(\n",
    "        [\n",
    "            pl.col(\"CPU_multiplied\").min().alias(\"CPU_min\"),\n",
    "            pl.col(\"GPU_multiplied\").min().alias(\"GPU_min\"),\n",
    "            pl.col(\"RAM_multiplied\").min().alias(\"RAM_min\"),\n",
    "            pl.col(\"SSD_multiplied\").min().alias(\"SSD_min\"),\n",
    "            pl.col(\"HDD_multiplied\").min().alias(\"HDD_min\"),\n",
    "            pl.col(\"MOBO_multiplied\").min().alias(\"MOBO_min\"),\n",
    "            pl.col(\"NIC_multiplied\").min().alias(\"NIC_min\"),\n",
    "            pl.col(\"PSU_multiplied\").min().alias(\"PSU_min\"),\n",
    "            pl.col(\"TRAY_multiplied\").min().alias(\"TRAY_min\"),\n",
    "            pl.col(\"TOR_multiplied\").min().alias(\"TOR_min\"),\n",
    "            pl.col(\"CHASSIS_multiplied\").min().alias(\"CHASSIS_min\"),\n",
    "        ]\n",
    "    )\n",
    "    .with_columns(\n",
    "        (\n",
    "            pl.col(\"CPU_min\") + pl.col(\"GPU_min\") + pl.col(\"RAM_min\") + pl.col(\"SSD_min\") +\n",
    "            pl.col(\"HDD_min\") + pl.col(\"MOBO_min\") + pl.col(\"NIC_min\") + pl.col(\"PSU_min\") +\n",
    "            pl.col(\"TRAY_min\") + pl.col(\"TOR_min\") + pl.col(\"CHASSIS_min\")\n",
    "        ).alias(\"total_minimum_sum\")\n",
    "    )\n",
    ")\n",
    "\n",
    "print(\"The table of best-in-class total cost per program (regardless of vendor):\\n\")\n",
    "display(best_in_class_total_cost_per_program)\n"
   ]
  }
 ],
 "metadata": {
  "kernelspec": {
   "display_name": "Python 3",
   "language": "python",
   "name": "python3"
  },
  "language_info": {
   "codemirror_mode": {
    "name": "ipython",
    "version": 3
   },
   "file_extension": ".py",
   "mimetype": "text/x-python",
   "name": "python",
   "nbconvert_exporter": "python",
   "pygments_lexer": "ipython3",
   "version": "3.9.6"
  }
 },
 "nbformat": 4,
 "nbformat_minor": 2
}
