{
 "cells": [
  {
   "cell_type": "code",
   "execution_count": 1,
   "id": "c68b730e-aa91-4e73-b658-b704198ee881",
   "metadata": {
    "tags": []
   },
   "outputs": [],
   "source": [
    "%%capture\n",
    "%pip install polars\n",
    "import polars as pl"
   ]
  },
  {
   "cell_type": "code",
   "execution_count": 2,
   "id": "a478d26a-4188-4eb8-ad51-91edc8b2bd5e",
   "metadata": {
    "tags": []
   },
   "outputs": [
    {
     "data": {
      "text/html": [
       "<div><style>\n",
       ".dataframe > thead > tr,\n",
       ".dataframe > tbody > tr {\n",
       "  text-align: right;\n",
       "  white-space: pre-wrap;\n",
       "}\n",
       "</style>\n",
       "<small>shape: (5, 14)</small><table border=\"1\" class=\"dataframe\"><thead><tr><th>vendor</th><th>program</th><th>quote_timestamp</th><th>CPU</th><th>GPU</th><th>RAM</th><th>SSD</th><th>HDD</th><th>MOBO</th><th>NIC</th><th>PSU</th><th>TRAY</th><th>TOR</th><th>CHASSIS</th></tr><tr><td>str</td><td>str</td><td>str</td><td>f64</td><td>f64</td><td>f64</td><td>f64</td><td>f64</td><td>f64</td><td>f64</td><td>f64</td><td>f64</td><td>f64</td><td>f64</td></tr></thead><tbody><tr><td>&quot;Vendor_7&quot;</td><td>&quot;Program_D&quot;</td><td>&quot;2024-09-25T03:52:19.637095&quot;</td><td>305.84</td><td>409.06</td><td>53.43</td><td>196.14</td><td>103.49</td><td>107.72</td><td>20.98</td><td>94.19</td><td>11.57</td><td>746.67</td><td>1015.84</td></tr><tr><td>&quot;Vendor_6&quot;</td><td>&quot;Program_E&quot;</td><td>&quot;2024-09-12T00:26:22.414219&quot;</td><td>324.21</td><td>446.35</td><td>44.91</td><td>194.27</td><td>184.53</td><td>100.12</td><td>28.8</td><td>89.99</td><td>70.05</td><td>728.08</td><td>1068.57</td></tr><tr><td>&quot;Vendor_6&quot;</td><td>&quot;Program_A&quot;</td><td>&quot;2024-09-01T04:29:41.575326&quot;</td><td>325.75</td><td>404.6</td><td>52.24</td><td>181.26</td><td>130.24</td><td>114.01</td><td>22.66</td><td>106.22</td><td>28.0</td><td>719.14</td><td>1665.41</td></tr><tr><td>&quot;Vendor_5&quot;</td><td>&quot;Program_A&quot;</td><td>&quot;2024-09-23T18:35:08.078890&quot;</td><td>300.29</td><td>414.38</td><td>48.73</td><td>187.55</td><td>105.42</td><td>103.5</td><td>21.64</td><td>102.29</td><td>22.98</td><td>734.33</td><td>1770.98</td></tr><tr><td>&quot;Vendor_5&quot;</td><td>&quot;Program_B&quot;</td><td>&quot;2024-09-24T11:33:41.034306&quot;</td><td>333.53</td><td>445.41</td><td>48.16</td><td>193.25</td><td>104.02</td><td>90.87</td><td>23.0</td><td>113.9</td><td>80.13</td><td>616.13</td><td>1563.11</td></tr></tbody></table></div>"
      ],
      "text/plain": [
       "shape: (5, 14)\n",
       "┌──────────┬───────────┬──────────────────────────┬────────┬───┬────────┬───────┬────────┬─────────┐\n",
       "│ vendor   ┆ program   ┆ quote_timestamp          ┆ CPU    ┆ … ┆ PSU    ┆ TRAY  ┆ TOR    ┆ CHASSIS │\n",
       "│ ---      ┆ ---       ┆ ---                      ┆ ---    ┆   ┆ ---    ┆ ---   ┆ ---    ┆ ---     │\n",
       "│ str      ┆ str       ┆ str                      ┆ f64    ┆   ┆ f64    ┆ f64   ┆ f64    ┆ f64     │\n",
       "╞══════════╪═══════════╪══════════════════════════╪════════╪═══╪════════╪═══════╪════════╪═════════╡\n",
       "│ Vendor_7 ┆ Program_D ┆ 2024-09-25T03:52:19.6370 ┆ 305.84 ┆ … ┆ 94.19  ┆ 11.57 ┆ 746.67 ┆ 1015.84 │\n",
       "│          ┆           ┆ 95                       ┆        ┆   ┆        ┆       ┆        ┆         │\n",
       "│ Vendor_6 ┆ Program_E ┆ 2024-09-12T00:26:22.4142 ┆ 324.21 ┆ … ┆ 89.99  ┆ 70.05 ┆ 728.08 ┆ 1068.57 │\n",
       "│          ┆           ┆ 19                       ┆        ┆   ┆        ┆       ┆        ┆         │\n",
       "│ Vendor_6 ┆ Program_A ┆ 2024-09-01T04:29:41.5753 ┆ 325.75 ┆ … ┆ 106.22 ┆ 28.0  ┆ 719.14 ┆ 1665.41 │\n",
       "│          ┆           ┆ 26                       ┆        ┆   ┆        ┆       ┆        ┆         │\n",
       "│ Vendor_5 ┆ Program_A ┆ 2024-09-23T18:35:08.0788 ┆ 300.29 ┆ … ┆ 102.29 ┆ 22.98 ┆ 734.33 ┆ 1770.98 │\n",
       "│          ┆           ┆ 90                       ┆        ┆   ┆        ┆       ┆        ┆         │\n",
       "│ Vendor_5 ┆ Program_B ┆ 2024-09-24T11:33:41.0343 ┆ 333.53 ┆ … ┆ 113.9  ┆ 80.13 ┆ 616.13 ┆ 1563.11 │\n",
       "│          ┆           ┆ 06                       ┆        ┆   ┆        ┆       ┆        ┆         │\n",
       "└──────────┴───────────┴──────────────────────────┴────────┴───┴────────┴───────┴────────┴─────────┘"
      ]
     },
     "execution_count": 2,
     "metadata": {},
     "output_type": "execute_result"
    }
   ],
   "source": [
    "# A dimension describes the record, and facts are measurements of the record\n",
    "quote_lines_raw = (\n",
    "    pl.read_csv(\"quote_lines.csv\")\n",
    "    .rename({\"Vendor\":\"vendor\", \"Program\":\"program\"})\n",
    ")\n",
    "\n",
    "# name the first dataframe 'raw' so that it's clear it's not an intermediary step's dataset\n",
    "quote_lines_raw.head()"
   ]
  },
  {
   "cell_type": "code",
   "execution_count": 3,
   "id": "7e72fb37-efc3-4e77-b507-56cfebfc70a4",
   "metadata": {
    "tags": []
   },
   "outputs": [
    {
     "name": "stdout",
     "output_type": "stream",
     "text": [
      "shape: (175, 14)\n",
      "┌──────────┬───────────┬──────────────────────────┬────────┬───┬────────┬───────┬────────┬─────────┐\n",
      "│ vendor   ┆ program   ┆ quote_timestamp          ┆ CPU    ┆ … ┆ PSU    ┆ TRAY  ┆ TOR    ┆ CHASSIS │\n",
      "│ ---      ┆ ---       ┆ ---                      ┆ ---    ┆   ┆ ---    ┆ ---   ┆ ---    ┆ ---     │\n",
      "│ str      ┆ str       ┆ str                      ┆ f64    ┆   ┆ f64    ┆ f64   ┆ f64    ┆ f64     │\n",
      "╞══════════╪═══════════╪══════════════════════════╪════════╪═══╪════════╪═══════╪════════╪═════════╡\n",
      "│ Vendor_7 ┆ Program_D ┆ 2024-09-25T03:52:19.6370 ┆ 305.84 ┆ … ┆ 94.19  ┆ 11.57 ┆ 746.67 ┆ 1015.84 │\n",
      "│          ┆           ┆ 95                       ┆        ┆   ┆        ┆       ┆        ┆         │\n",
      "│ Vendor_6 ┆ Program_E ┆ 2024-09-12T00:26:22.4142 ┆ 324.21 ┆ … ┆ 89.99  ┆ 70.05 ┆ 728.08 ┆ 1068.57 │\n",
      "│          ┆           ┆ 19                       ┆        ┆   ┆        ┆       ┆        ┆         │\n",
      "│ Vendor_6 ┆ Program_A ┆ 2024-09-01T04:29:41.5753 ┆ 325.75 ┆ … ┆ 106.22 ┆ 28.0  ┆ 719.14 ┆ 1665.41 │\n",
      "│          ┆           ┆ 26                       ┆        ┆   ┆        ┆       ┆        ┆         │\n",
      "│ Vendor_5 ┆ Program_A ┆ 2024-09-23T18:35:08.0788 ┆ 300.29 ┆ … ┆ 102.29 ┆ 22.98 ┆ 734.33 ┆ 1770.98 │\n",
      "│          ┆           ┆ 90                       ┆        ┆   ┆        ┆       ┆        ┆         │\n",
      "│ Vendor_5 ┆ Program_B ┆ 2024-09-24T11:33:41.0343 ┆ 333.53 ┆ … ┆ 113.9  ┆ 80.13 ┆ 616.13 ┆ 1563.11 │\n",
      "│          ┆           ┆ 06                       ┆        ┆   ┆        ┆       ┆        ┆         │\n",
      "│ …        ┆ …         ┆ …                        ┆ …      ┆ … ┆ …      ┆ …     ┆ …      ┆ …       │\n",
      "│ Vendor_7 ┆ Program_E ┆ 2024-09-02T19:59:44.7933 ┆ 318.99 ┆ … ┆ 98.91  ┆ 78.02 ┆ 719.53 ┆ 1614.46 │\n",
      "│          ┆           ┆ 80                       ┆        ┆   ┆        ┆       ┆        ┆         │\n",
      "│ Vendor_7 ┆ Program_C ┆ 2024-09-10T20:59:39.9596 ┆ 345.09 ┆ … ┆ 112.67 ┆ 23.06 ┆ 727.32 ┆ 1646.63 │\n",
      "│          ┆           ┆ 89                       ┆        ┆   ┆        ┆       ┆        ┆         │\n",
      "│ Vendor_4 ┆ Program_E ┆ 2024-09-11T17:20:46.3905 ┆ 313.77 ┆ … ┆ 115.58 ┆ 27.46 ┆ 711.28 ┆ 1094.2  │\n",
      "│          ┆           ┆ 87                       ┆        ┆   ┆        ┆       ┆        ┆         │\n",
      "│ Vendor_4 ┆ Program_D ┆ 2024-09-18T01:40:39.9879 ┆ 310.68 ┆ … ┆ 81.97  ┆ 97.49 ┆ 607.15 ┆ 1170.61 │\n",
      "│          ┆           ┆ 61                       ┆        ┆   ┆        ┆       ┆        ┆         │\n",
      "│ Vendor_6 ┆ Program_E ┆ 2024-09-12T23:45:09.7653 ┆ 339.08 ┆ … ┆ 86.62  ┆ 11.57 ┆ 611.23 ┆ 1677.63 │\n",
      "│          ┆           ┆ 69                       ┆        ┆   ┆        ┆       ┆        ┆         │\n",
      "└──────────┴───────────┴──────────────────────────┴────────┴───┴────────┴───────┴────────┴─────────┘\n"
     ]
    }
   ],
   "source": [
    "print(quote_lines_raw)"
   ]
  },
  {
   "cell_type": "code",
   "execution_count": 4,
   "id": "db0e2ed7-5e9e-4b98-af9b-ec6e6dfff318",
   "metadata": {
    "tags": []
   },
   "outputs": [
    {
     "data": {
      "text/html": [
       "<div><style>\n",
       ".dataframe > thead > tr,\n",
       ".dataframe > tbody > tr {\n",
       "  text-align: right;\n",
       "  white-space: pre-wrap;\n",
       "}\n",
       "</style>\n",
       "<small>shape: (4, 14)</small><table border=\"1\" class=\"dataframe\"><thead><tr><th>vendor</th><th>program</th><th>quote_timestamp</th><th>CPU</th><th>GPU</th><th>RAM</th><th>SSD</th><th>HDD</th><th>MOBO</th><th>NIC</th><th>PSU</th><th>TRAY</th><th>TOR</th><th>CHASSIS</th></tr><tr><td>str</td><td>str</td><td>str</td><td>f64</td><td>f64</td><td>f64</td><td>f64</td><td>f64</td><td>f64</td><td>f64</td><td>f64</td><td>f64</td><td>f64</td><td>f64</td></tr></thead><tbody><tr><td>&quot;Vendor_7&quot;</td><td>&quot;Program_D&quot;</td><td>&quot;2024-09-25T03:52:19.637095&quot;</td><td>305.84</td><td>409.06</td><td>53.43</td><td>196.14</td><td>103.49</td><td>107.72</td><td>20.98</td><td>94.19</td><td>11.57</td><td>746.67</td><td>1015.84</td></tr><tr><td>&quot;Vendor_7&quot;</td><td>&quot;Program_D&quot;</td><td>&quot;2024-09-14T21:51:34.330801&quot;</td><td>324.41</td><td>454.64</td><td>45.32</td><td>195.39</td><td>123.9</td><td>107.94</td><td>23.35</td><td>118.26</td><td>74.04</td><td>588.74</td><td>1548.05</td></tr><tr><td>&quot;Vendor_7&quot;</td><td>&quot;Program_D&quot;</td><td>&quot;2024-09-01T22:47:48.325236&quot;</td><td>303.85</td><td>427.39</td><td>53.49</td><td>183.37</td><td>149.99</td><td>114.59</td><td>26.4</td><td>86.88</td><td>14.5</td><td>746.95</td><td>1646.28</td></tr><tr><td>&quot;Vendor_7&quot;</td><td>&quot;Program_D&quot;</td><td>&quot;2024-09-21T23:15:38.417376&quot;</td><td>326.83</td><td>431.64</td><td>45.17</td><td>192.39</td><td>130.6</td><td>96.78</td><td>24.66</td><td>89.94</td><td>55.8</td><td>604.53</td><td>1591.95</td></tr></tbody></table></div>"
      ],
      "text/plain": [
       "shape: (4, 14)\n",
       "┌──────────┬───────────┬──────────────────────────┬────────┬───┬────────┬───────┬────────┬─────────┐\n",
       "│ vendor   ┆ program   ┆ quote_timestamp          ┆ CPU    ┆ … ┆ PSU    ┆ TRAY  ┆ TOR    ┆ CHASSIS │\n",
       "│ ---      ┆ ---       ┆ ---                      ┆ ---    ┆   ┆ ---    ┆ ---   ┆ ---    ┆ ---     │\n",
       "│ str      ┆ str       ┆ str                      ┆ f64    ┆   ┆ f64    ┆ f64   ┆ f64    ┆ f64     │\n",
       "╞══════════╪═══════════╪══════════════════════════╪════════╪═══╪════════╪═══════╪════════╪═════════╡\n",
       "│ Vendor_7 ┆ Program_D ┆ 2024-09-25T03:52:19.6370 ┆ 305.84 ┆ … ┆ 94.19  ┆ 11.57 ┆ 746.67 ┆ 1015.84 │\n",
       "│          ┆           ┆ 95                       ┆        ┆   ┆        ┆       ┆        ┆         │\n",
       "│ Vendor_7 ┆ Program_D ┆ 2024-09-14T21:51:34.3308 ┆ 324.41 ┆ … ┆ 118.26 ┆ 74.04 ┆ 588.74 ┆ 1548.05 │\n",
       "│          ┆           ┆ 01                       ┆        ┆   ┆        ┆       ┆        ┆         │\n",
       "│ Vendor_7 ┆ Program_D ┆ 2024-09-01T22:47:48.3252 ┆ 303.85 ┆ … ┆ 86.88  ┆ 14.5  ┆ 746.95 ┆ 1646.28 │\n",
       "│          ┆           ┆ 36                       ┆        ┆   ┆        ┆       ┆        ┆         │\n",
       "│ Vendor_7 ┆ Program_D ┆ 2024-09-21T23:15:38.4173 ┆ 326.83 ┆ … ┆ 89.94  ┆ 55.8  ┆ 604.53 ┆ 1591.95 │\n",
       "│          ┆           ┆ 76                       ┆        ┆   ┆        ┆       ┆        ┆         │\n",
       "└──────────┴───────────┴──────────────────────────┴────────┴───┴────────┴───────┴────────┴─────────┘"
      ]
     },
     "execution_count": 4,
     "metadata": {},
     "output_type": "execute_result"
    }
   ],
   "source": [
    "# open and closed parentheses sets us up for piping\n",
    "(\n",
    "quote_lines_raw \n",
    "    .filter(pl.col(\"vendor\") == \"Vendor_7\")\n",
    "    .filter(pl.col(\"program\") == \"Program_D\")\n",
    ")\n",
    "\n",
    "#quote_lines_raw.filter(pl.col(\"age\") > 30)"
   ]
  },
  {
   "cell_type": "code",
   "execution_count": 5,
   "id": "a935d0d6-7063-41fe-9495-320750ee25af",
   "metadata": {
    "tags": []
   },
   "outputs": [],
   "source": [
    "# example of a multiple filter criteria as a single filter command\n",
    "\n",
    "# order does not matter, polars will run whatever it believes is fastest, first\n",
    "df_7D = (\n",
    "quote_lines_raw\n",
    "    .filter([\n",
    "        pl.col(\"vendor\") == \"Vendor_7\",\n",
    "        pl.col(\"program\") == \"Program_D\", # in R, every iterator has a comma after it, even the last one\n",
    "    ])\n",
    "    \n",
    "    \n",
    ")"
   ]
  },
  {
   "cell_type": "code",
   "execution_count": 6,
   "id": "f7e606d2-dfeb-4667-9154-4723ab84b3b2",
   "metadata": {
    "tags": []
   },
   "outputs": [],
   "source": [
    "# Group by and aggregate in polars\n",
    "\n",
    "df_7DCPU = (\n",
    "    df_7D   \n",
    "    .group_by(\"vendor\", \"program\")\n",
    "    .agg(pl.mean(\"CPU\"))\n",
    "    )\n",
    "\n",
    "# df.groupby(\"age\").agg([\n",
    "#    pl.col(\"salary\").mean().alias(\"avg_salary\")\n",
    "#])\n"
   ]
  },
  {
   "cell_type": "code",
   "execution_count": 7,
   "id": "92bc0454-40da-4d9a-9e85-db1e030c4a4e",
   "metadata": {
    "tags": []
   },
   "outputs": [
    {
     "data": {
      "text/html": [
       "<div><style>\n",
       ".dataframe > thead > tr,\n",
       ".dataframe > tbody > tr {\n",
       "  text-align: right;\n",
       "  white-space: pre-wrap;\n",
       "}\n",
       "</style>\n",
       "<small>shape: (1, 4)</small><table border=\"1\" class=\"dataframe\"><thead><tr><th>vendor</th><th>program</th><th>CPU</th><th>CPU_increase</th></tr><tr><td>str</td><td>str</td><td>f64</td><td>f64</td></tr></thead><tbody><tr><td>&quot;Vendor_7&quot;</td><td>&quot;Program_D&quot;</td><td>315.2325</td><td>472.84875</td></tr></tbody></table></div>"
      ],
      "text/plain": [
       "shape: (1, 4)\n",
       "┌──────────┬───────────┬──────────┬──────────────┐\n",
       "│ vendor   ┆ program   ┆ CPU      ┆ CPU_increase │\n",
       "│ ---      ┆ ---       ┆ ---      ┆ ---          │\n",
       "│ str      ┆ str       ┆ f64      ┆ f64          │\n",
       "╞══════════╪═══════════╪══════════╪══════════════╡\n",
       "│ Vendor_7 ┆ Program_D ┆ 315.2325 ┆ 472.84875    │\n",
       "└──────────┴───────────┴──────────┴──────────────┘"
      ]
     },
     "execution_count": 7,
     "metadata": {},
     "output_type": "execute_result"
    }
   ],
   "source": [
    "(\n",
    "    df_7DCPU   \n",
    "    .with_columns(\n",
    "        (pl.col(\"CPU\") * 1.5).alias(\"CPU_increase\")\n",
    "    )\n",
    ")"
   ]
  },
  {
   "cell_type": "code",
   "execution_count": 8,
   "id": "d1a2bbcb-be58-4460-a017-a07c3a17049e",
   "metadata": {
    "tags": []
   },
   "outputs": [],
   "source": [
    "# create new column and use it in a new calculation\n",
    "\n",
    "df_newcpu = (\n",
    "    df_7DCPU   \n",
    "    .with_columns(\n",
    "        pl.lit(1.5).alias(\"increase_rate\"),\n",
    "    )\n",
    "    .with_columns(\n",
    "         (\n",
    "             pl.col(\"CPU\") * pl.col(\"increase_rate\")\n",
    "         ).alias(\"new_cpu_price\")\n",
    "         )\n",
    ")\n"
   ]
  },
  {
   "cell_type": "code",
   "execution_count": 11,
   "id": "a896403d-fd0a-42a0-9cf0-2be63b7a03e7",
   "metadata": {
    "tags": []
   },
   "outputs": [
    {
     "name": "stdout",
     "output_type": "stream",
     "text": [
      "shape: (1, 4)\n",
      "┌──────────┬───────────┬──────────┬───────────────┐\n",
      "│ vendor   ┆ program   ┆ CPU      ┆ new_cpu_price │\n",
      "│ ---      ┆ ---       ┆ ---      ┆ ---           │\n",
      "│ str      ┆ str       ┆ f64      ┆ f64           │\n",
      "╞══════════╪═══════════╪══════════╪═══════════════╡\n",
      "│ Vendor_7 ┆ Program_D ┆ 315.2325 ┆ 472.84875     │\n",
      "└──────────┴───────────┴──────────┴───────────────┘\n"
     ]
    }
   ],
   "source": [
    "df_final = (\n",
    "    df_newcpu\n",
    "    .drop(\"increase_rate\")\n",
    ")\n",
    "\n",
    "print(df_final)"
   ]
  },
  {
   "cell_type": "code",
   "execution_count": null,
   "id": "86dbc557-44f9-4ced-b508-8d680d93803c",
   "metadata": {},
   "outputs": [],
   "source": [
    "quote_lines_raw = (\n",
    "    pl.read_csv(\"quote_lines.csv\")\n",
    ")\n"
   ]
  },
  {
   "cell_type": "code",
   "execution_count": null,
   "id": "bdd1b030",
   "metadata": {},
   "outputs": [],
   "source": [
    "\n",
    "(\n",
    "    quote_lines_raw\n",
    "    .unpivot(\n",
    "        index=(\"Vendor\", \"Program\", \"quote_timestamp\"), \n",
    "        variable_name = \"components\",\n",
    "        value_name = \"cost\",\n",
    "    )\n",
    "    .with_columns(\n",
    "        (pl.col(\"cost\") * 1.5).alias(\"new_cost\")\n",
    "    )\n",
    ")"
   ]
  }
 ],
 "metadata": {
  "kernelspec": {
   "display_name": "conda_python3",
   "language": "python",
   "name": "conda_python3"
  },
  "language_info": {
   "codemirror_mode": {
    "name": "ipython",
    "version": 3
   },
   "file_extension": ".py",
   "mimetype": "text/x-python",
   "name": "python",
   "nbconvert_exporter": "python",
   "pygments_lexer": "ipython3",
   "version": "3.10.14"
  }
 },
 "nbformat": 4,
 "nbformat_minor": 5
}
