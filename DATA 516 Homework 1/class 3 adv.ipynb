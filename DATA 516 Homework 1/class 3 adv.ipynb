{
 "cells": [
  {
   "cell_type": "code",
   "execution_count": 2,
   "id": "f741d6b9-95ea-4883-8de3-4e125f828919",
   "metadata": {
    "tags": []
   },
   "outputs": [],
   "source": [
    "%%capture\n",
    "%pip install polars\n",
    "import polars as pl"
   ]
  },
  {
   "cell_type": "code",
   "execution_count": 3,
   "id": "052a7318-9c27-4ce0-a179-3888e0a7fb03",
   "metadata": {
    "tags": []
   },
   "outputs": [],
   "source": [
    "quote_lines_raw = (\n",
    "    pl.read_csv(\"quote_lines.csv\")\n",
    ")"
   ]
  },
  {
   "cell_type": "code",
   "execution_count": 6,
   "id": "84b2b27a-fd1b-43fe-978b-49597a58d326",
   "metadata": {
    "tags": []
   },
   "outputs": [
    {
     "data": {
      "text/html": [
       "<div><style>\n",
       ".dataframe > thead > tr,\n",
       ".dataframe > tbody > tr {\n",
       "  text-align: right;\n",
       "  white-space: pre-wrap;\n",
       "}\n",
       "</style>\n",
       "<small>shape: (1_925, 6)</small><table border=\"1\" class=\"dataframe\"><thead><tr><th>Vendor</th><th>Program</th><th>quote_timestamp</th><th>components</th><th>cost</th><th>new_cost</th></tr><tr><td>str</td><td>str</td><td>str</td><td>str</td><td>f64</td><td>f64</td></tr></thead><tbody><tr><td>&quot;Vendor_7&quot;</td><td>&quot;Program_D&quot;</td><td>&quot;2024-09-25T03:52:19.637095&quot;</td><td>&quot;CPU&quot;</td><td>305.84</td><td>458.76</td></tr><tr><td>&quot;Vendor_6&quot;</td><td>&quot;Program_E&quot;</td><td>&quot;2024-09-12T00:26:22.414219&quot;</td><td>&quot;CPU&quot;</td><td>324.21</td><td>486.315</td></tr><tr><td>&quot;Vendor_6&quot;</td><td>&quot;Program_A&quot;</td><td>&quot;2024-09-01T04:29:41.575326&quot;</td><td>&quot;CPU&quot;</td><td>325.75</td><td>488.625</td></tr><tr><td>&quot;Vendor_5&quot;</td><td>&quot;Program_A&quot;</td><td>&quot;2024-09-23T18:35:08.078890&quot;</td><td>&quot;CPU&quot;</td><td>300.29</td><td>450.435</td></tr><tr><td>&quot;Vendor_5&quot;</td><td>&quot;Program_B&quot;</td><td>&quot;2024-09-24T11:33:41.034306&quot;</td><td>&quot;CPU&quot;</td><td>333.53</td><td>500.295</td></tr><tr><td>&hellip;</td><td>&hellip;</td><td>&hellip;</td><td>&hellip;</td><td>&hellip;</td><td>&hellip;</td></tr><tr><td>&quot;Vendor_7&quot;</td><td>&quot;Program_E&quot;</td><td>&quot;2024-09-02T19:59:44.793380&quot;</td><td>&quot;CHASSIS&quot;</td><td>1614.46</td><td>2421.69</td></tr><tr><td>&quot;Vendor_7&quot;</td><td>&quot;Program_C&quot;</td><td>&quot;2024-09-10T20:59:39.959689&quot;</td><td>&quot;CHASSIS&quot;</td><td>1646.63</td><td>2469.945</td></tr><tr><td>&quot;Vendor_4&quot;</td><td>&quot;Program_E&quot;</td><td>&quot;2024-09-11T17:20:46.390587&quot;</td><td>&quot;CHASSIS&quot;</td><td>1094.2</td><td>1641.3</td></tr><tr><td>&quot;Vendor_4&quot;</td><td>&quot;Program_D&quot;</td><td>&quot;2024-09-18T01:40:39.987961&quot;</td><td>&quot;CHASSIS&quot;</td><td>1170.61</td><td>1755.915</td></tr><tr><td>&quot;Vendor_6&quot;</td><td>&quot;Program_E&quot;</td><td>&quot;2024-09-12T23:45:09.765369&quot;</td><td>&quot;CHASSIS&quot;</td><td>1677.63</td><td>2516.445</td></tr></tbody></table></div>"
      ],
      "text/plain": [
       "shape: (1_925, 6)\n",
       "┌──────────┬───────────┬────────────────────────────┬────────────┬─────────┬──────────┐\n",
       "│ Vendor   ┆ Program   ┆ quote_timestamp            ┆ components ┆ cost    ┆ new_cost │\n",
       "│ ---      ┆ ---       ┆ ---                        ┆ ---        ┆ ---     ┆ ---      │\n",
       "│ str      ┆ str       ┆ str                        ┆ str        ┆ f64     ┆ f64      │\n",
       "╞══════════╪═══════════╪════════════════════════════╪════════════╪═════════╪══════════╡\n",
       "│ Vendor_7 ┆ Program_D ┆ 2024-09-25T03:52:19.637095 ┆ CPU        ┆ 305.84  ┆ 458.76   │\n",
       "│ Vendor_6 ┆ Program_E ┆ 2024-09-12T00:26:22.414219 ┆ CPU        ┆ 324.21  ┆ 486.315  │\n",
       "│ Vendor_6 ┆ Program_A ┆ 2024-09-01T04:29:41.575326 ┆ CPU        ┆ 325.75  ┆ 488.625  │\n",
       "│ Vendor_5 ┆ Program_A ┆ 2024-09-23T18:35:08.078890 ┆ CPU        ┆ 300.29  ┆ 450.435  │\n",
       "│ Vendor_5 ┆ Program_B ┆ 2024-09-24T11:33:41.034306 ┆ CPU        ┆ 333.53  ┆ 500.295  │\n",
       "│ …        ┆ …         ┆ …                          ┆ …          ┆ …       ┆ …        │\n",
       "│ Vendor_7 ┆ Program_E ┆ 2024-09-02T19:59:44.793380 ┆ CHASSIS    ┆ 1614.46 ┆ 2421.69  │\n",
       "│ Vendor_7 ┆ Program_C ┆ 2024-09-10T20:59:39.959689 ┆ CHASSIS    ┆ 1646.63 ┆ 2469.945 │\n",
       "│ Vendor_4 ┆ Program_E ┆ 2024-09-11T17:20:46.390587 ┆ CHASSIS    ┆ 1094.2  ┆ 1641.3   │\n",
       "│ Vendor_4 ┆ Program_D ┆ 2024-09-18T01:40:39.987961 ┆ CHASSIS    ┆ 1170.61 ┆ 1755.915 │\n",
       "│ Vendor_6 ┆ Program_E ┆ 2024-09-12T23:45:09.765369 ┆ CHASSIS    ┆ 1677.63 ┆ 2516.445 │\n",
       "└──────────┴───────────┴────────────────────────────┴────────────┴─────────┴──────────┘"
      ]
     },
     "execution_count": 6,
     "metadata": {},
     "output_type": "execute_result"
    }
   ],
   "source": [
    "\n",
    "(\n",
    "    quote_lines_raw\n",
    "    .unpivot(\n",
    "        index=(\"Vendor\", \"Program\", \"quote_timestamp\"), \n",
    "        variable_name = \"components\",\n",
    "        value_name = \"cost\",\n",
    "    )\n",
    "    .with_columns(\n",
    "        (pl.col(\"cost\") * 1.5).alias(\"new_cost\")\n",
    "    )\n",
    ")"
   ]
  },
  {
   "cell_type": "code",
   "execution_count": null,
   "id": "2f7780e9-6666-4c64-bac2-943b2954c0c5",
   "metadata": {},
   "outputs": [],
   "source": []
  }
 ],
 "metadata": {
  "kernelspec": {
   "display_name": "conda_python3",
   "language": "python",
   "name": "conda_python3"
  },
  "language_info": {
   "codemirror_mode": {
    "name": "ipython",
    "version": 3
   },
   "file_extension": ".py",
   "mimetype": "text/x-python",
   "name": "python",
   "nbconvert_exporter": "python",
   "pygments_lexer": "ipython3",
   "version": "3.10.14"
  }
 },
 "nbformat": 4,
 "nbformat_minor": 5
}
